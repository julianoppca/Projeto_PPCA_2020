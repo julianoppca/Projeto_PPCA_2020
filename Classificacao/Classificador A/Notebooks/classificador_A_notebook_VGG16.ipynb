{
 "cells": [
  {
   "cell_type": "code",
   "execution_count": 1,
   "metadata": {},
   "outputs": [],
   "source": [
    "# Não exibir warnings\n",
    "import os\n",
    "import sys\n",
    "sys.stderr = open(os.devnull, \"w\")  # silence stderr\n",
    "sys.stderr = sys.__stderr__  # unsilence stderr"
   ]
  },
  {
   "cell_type": "code",
   "execution_count": 2,
   "metadata": {},
   "outputs": [],
   "source": [
    "#https://github.com/PacktPublishing/Neural-Network-Projects-with-Python/blob/master/Chapter04/main_vgg16.py\n",
    "\n",
    "from keras.applications.vgg16 import VGG16\n",
    "from keras.models import Model\n",
    "\n",
    "from keras.models import Sequential\n",
    "from keras.layers import Conv2D\n",
    "from keras.layers import MaxPooling2D\n",
    "from keras.layers import Flatten\n",
    "from keras.layers import Dense\n",
    "import matplotlib.pyplot as plt \n",
    "from sklearn.metrics import classification_report, confusion_matrix\n",
    "import tensorflow as tf\n",
    "import numpy as np\n",
    "import pandas as pd\n",
    "import seaborn as sns\n",
    "\n",
    "from PIL import Image, ImageFile\n",
    "ImageFile.LOAD_TRUNCATED_IMAGES = True"
   ]
  },
  {
   "cell_type": "code",
   "execution_count": 3,
   "metadata": {},
   "outputs": [],
   "source": [
    "#Função de geração da matriz de confusão\n",
    "def print_confusion_matrix(confusion_matrix, class_names, figsize = (10,7), fontsize=11):\n",
    "    df_cm = pd.DataFrame(\n",
    "        confusion_matrix, index=class_names, columns=class_names, \n",
    "    )\n",
    "    fig = plt.figure(figsize=figsize)\n",
    "    try:\n",
    "        heatmap = sns.heatmap(df_cm, cmap=\"YlGnBu\", annot=True, fmt=\"d\")\n",
    "    except ValueError:\n",
    "        raise ValueError(\"Confusion matrix values must be integers.\")\n",
    "    heatmap.yaxis.set_ticklabels(heatmap.yaxis.get_ticklabels(), rotation=0, ha='right', fontsize=fontsize)\n",
    "    heatmap.xaxis.set_ticklabels(heatmap.xaxis.get_ticklabels(), rotation=30, ha='right', fontsize=fontsize)\n",
    "    plt.ylabel('True label')\n",
    "    plt.xlabel('Predicted label')\n",
    "    #return fig  "
   ]
  },
  {
   "cell_type": "code",
   "execution_count": 4,
   "metadata": {},
   "outputs": [],
   "source": [
    "batch = 32\n",
    "#num_train = 5600\n",
    "#num_validation = 2400"
   ]
  },
  {
   "cell_type": "code",
   "execution_count": 5,
   "metadata": {},
   "outputs": [],
   "source": [
    "### Transfer Learning ###\n",
    "\n",
    "vgg16 = VGG16(include_top=False, weights='imagenet', input_shape=(128,128,3))\n",
    "\n",
    "# Freeze the pre-trained layers\n",
    "for layer in vgg16.layers:\n",
    "    layer.trainable = False\n",
    "\n",
    "# Add a fully connected layer with 2 nodes at the end \n",
    "input_ = vgg16.input\n",
    "output_ = vgg16(input_)\n",
    "last_layer = Flatten(name='flatten')(output_)\n",
    "last_layer = Dense(2, activation='sigmoid')(last_layer)\n",
    "model = Model(input=input_, output=last_layer)\n",
    "\n",
    "model.compile(optimizer = 'adam', loss = 'categorical_crossentropy', metrics = ['accuracy'])"
   ]
  },
  {
   "cell_type": "code",
   "execution_count": 6,
   "metadata": {},
   "outputs": [
    {
     "name": "stdout",
     "output_type": "stream",
     "text": [
      "### Estrutura VGG16 ###\n",
      "_________________________________________________________________\n",
      "Layer (type)                 Output Shape              Param #   \n",
      "=================================================================\n",
      "input_1 (InputLayer)         (None, 128, 128, 3)       0         \n",
      "_________________________________________________________________\n",
      "block1_conv1 (Conv2D)        (None, 128, 128, 64)      1792      \n",
      "_________________________________________________________________\n",
      "block1_conv2 (Conv2D)        (None, 128, 128, 64)      36928     \n",
      "_________________________________________________________________\n",
      "block1_pool (MaxPooling2D)   (None, 64, 64, 64)        0         \n",
      "_________________________________________________________________\n",
      "block2_conv1 (Conv2D)        (None, 64, 64, 128)       73856     \n",
      "_________________________________________________________________\n",
      "block2_conv2 (Conv2D)        (None, 64, 64, 128)       147584    \n",
      "_________________________________________________________________\n",
      "block2_pool (MaxPooling2D)   (None, 32, 32, 128)       0         \n",
      "_________________________________________________________________\n",
      "block3_conv1 (Conv2D)        (None, 32, 32, 256)       295168    \n",
      "_________________________________________________________________\n",
      "block3_conv2 (Conv2D)        (None, 32, 32, 256)       590080    \n",
      "_________________________________________________________________\n",
      "block3_conv3 (Conv2D)        (None, 32, 32, 256)       590080    \n",
      "_________________________________________________________________\n",
      "block3_pool (MaxPooling2D)   (None, 16, 16, 256)       0         \n",
      "_________________________________________________________________\n",
      "block4_conv1 (Conv2D)        (None, 16, 16, 512)       1180160   \n",
      "_________________________________________________________________\n",
      "block4_conv2 (Conv2D)        (None, 16, 16, 512)       2359808   \n",
      "_________________________________________________________________\n",
      "block4_conv3 (Conv2D)        (None, 16, 16, 512)       2359808   \n",
      "_________________________________________________________________\n",
      "block4_pool (MaxPooling2D)   (None, 8, 8, 512)         0         \n",
      "_________________________________________________________________\n",
      "block5_conv1 (Conv2D)        (None, 8, 8, 512)         2359808   \n",
      "_________________________________________________________________\n",
      "block5_conv2 (Conv2D)        (None, 8, 8, 512)         2359808   \n",
      "_________________________________________________________________\n",
      "block5_conv3 (Conv2D)        (None, 8, 8, 512)         2359808   \n",
      "_________________________________________________________________\n",
      "block5_pool (MaxPooling2D)   (None, 4, 4, 512)         0         \n",
      "=================================================================\n",
      "Total params: 14,714,688\n",
      "Trainable params: 0\n",
      "Non-trainable params: 14,714,688\n",
      "_________________________________________________________________\n",
      "\n",
      "\n",
      "### Estrutura do modelo ###\n",
      "_________________________________________________________________\n",
      "Layer (type)                 Output Shape              Param #   \n",
      "=================================================================\n",
      "input_1 (InputLayer)         (None, 128, 128, 3)       0         \n",
      "_________________________________________________________________\n",
      "vgg16 (Model)                (None, 4, 4, 512)         14714688  \n",
      "_________________________________________________________________\n",
      "flatten (Flatten)            (None, 8192)              0         \n",
      "_________________________________________________________________\n",
      "dense_1 (Dense)              (None, 2)                 16386     \n",
      "=================================================================\n",
      "Total params: 14,731,074\n",
      "Trainable params: 16,386\n",
      "Non-trainable params: 14,714,688\n",
      "_________________________________________________________________\n"
     ]
    }
   ],
   "source": [
    "print (\"### Estrutura VGG16 ###\")\n",
    "vgg16.summary()\n",
    "\n",
    "print (\"\\n\\n### Estrutura do modelo ###\")\n",
    "model.summary()"
   ]
  },
  {
   "cell_type": "code",
   "execution_count": 7,
   "metadata": {},
   "outputs": [
    {
     "name": "stdout",
     "output_type": "stream",
     "text": [
      "Found 4996 images belonging to 2 classes.\n",
      "{'documentos': 0, 'nao_documentos': 1}\n",
      "Found 2396 images belonging to 2 classes.\n"
     ]
    }
   ],
   "source": [
    "# Part 2 - Fitting the CNN to the images\n",
    "\n",
    "from keras.preprocessing.image import ImageDataGenerator\n",
    "\n",
    "#Conjunto de treinamento\n",
    "train_datagen = ImageDataGenerator(rescale = 1./255,\n",
    "                                   shear_range = 0.2,\n",
    "                                   zoom_range = 0.2,\n",
    "                                   horizontal_flip = True)\n",
    "\n",
    "training_set = train_datagen.flow_from_directory('classificador_A/train',\n",
    "                                                 target_size = (128, 128),\n",
    "                                                 color_mode=\"rgb\",\n",
    "                                                 batch_size = batch,\n",
    "                                                 class_mode = 'categorical',\n",
    "                                                 shuffle = True)\n",
    "\n",
    "print (training_set.class_indices)\n",
    "#Conjunto de validação\n",
    "validation_datagen = ImageDataGenerator(rescale = 1./255)\n",
    "\n",
    "validation_set = validation_datagen.flow_from_directory('classificador_A/validation/',\n",
    "                                            target_size = (128, 128),\n",
    "                                            color_mode=\"rgb\",\n",
    "                                            batch_size = batch, #alterado para 1\n",
    "                                            class_mode = 'categorical',\n",
    "                                            shuffle=True)\n",
    "num_train = training_set.samples\n",
    "num_validation = validation_set.samples"
   ]
  },
  {
   "cell_type": "code",
   "execution_count": 8,
   "metadata": {},
   "outputs": [
    {
     "name": "stdout",
     "output_type": "stream",
     "text": [
      "Epoch 1/2\n",
      "156/156 [==============================] - 2657s 17s/step - loss: 0.1227 - acc: 0.9555 - val_loss: 0.0688 - val_acc: 0.9814\n",
      "Epoch 2/2\n",
      "156/156 [==============================] - 2655s 17s/step - loss: 0.0749 - acc: 0.9746 - val_loss: 0.1727 - val_acc: 0.9370\n"
     ]
    }
   ],
   "source": [
    "with tf.device('/gpu:0'): #rodar na GPU\n",
    "    history = model.fit_generator(training_set,\n",
    "                         steps_per_epoch = (num_train//batch),\n",
    "                         epochs = 2,\n",
    "                         validation_data = validation_set,\n",
    "                         validation_steps = (num_validation//batch), verbose=1)\n",
    "    \n",
    "\n",
    "model.save('modelo_classificador_A_VGG16_dist_01.h5')"
   ]
  },
  {
   "cell_type": "code",
   "execution_count": 9,
   "metadata": {},
   "outputs": [
    {
     "name": "stdout",
     "output_type": "stream",
     "text": [
      "Train accuracy: 0.974\n",
      "Train loss: 0.075 \n",
      "\n",
      "Validation accuracy: 0.937\n",
      "Validation loss: 0.173\n"
     ]
    },
    {
     "data": {
      "image/png": "[encoded data removed]",
      "text/plain": [
       "<Figure size 432x288 with 1 Axes>"
      ]
     },
     "metadata": {
      "needs_background": "light"
     },
     "output_type": "display_data"
    },
    {
     "data": {
      "image/png": "[encoded data removed]",
      "text/plain": [
       "<Figure size 432x288 with 1 Axes>"
      ]
     },
     "metadata": {
      "needs_background": "light"
     },
     "output_type": "display_data"
    }
   ],
   "source": [
    "# Final accuracy and loss\n",
    "print (\"Train accuracy: %.3f\" % (history.history['acc'][-1]))\n",
    "print (\"Train loss: %.3f\" % (history.history['loss'][-1]),\"\\n\")\n",
    "\n",
    "print (\"Validation accuracy: %.3f\" % (history.history['val_acc'][-1]))\n",
    "print (\"Validation loss: %.3f\" % (history.history['val_loss'][-1]))\n",
    "\n",
    "# Plot training & validation accuracy values\n",
    "plt.plot(history.history['acc'])\n",
    "plt.plot(history.history['val_acc'])\n",
    "plt.title('Model accuracy')\n",
    "plt.ylabel('Accuracy')\n",
    "plt.xlabel('Epoch')\n",
    "plt.legend(['Train', 'Validation'], loc='upper left')\n",
    "plt.show()\n",
    "\n",
    "# Plot training & validation loss values\n",
    "plt.plot(history.history['loss'])\n",
    "plt.plot(history.history['val_loss'])\n",
    "plt.title('Model loss')\n",
    "plt.ylabel('Loss')\n",
    "plt.xlabel('Epoch')\n",
    "plt.legend(['Train', 'Validation'], loc='upper left')\n",
    "plt.show()"
   ]
  },
  {
   "cell_type": "code",
   "execution_count": 10,
   "metadata": {},
   "outputs": [
    {
     "name": "stdout",
     "output_type": "stream",
     "text": [
      "### Matriz de confusão para o conjunto de validação ###\n",
      "Found 2396 images belonging to 2 classes.\n",
      "74/74 [==============================] - 846s 11s/step\n"
     ]
    },
    {
     "data": {
      "image/png": "[encoded data removed]",
      "text/plain": [
       "<Figure size 720x504 with 2 Axes>"
      ]
     },
     "metadata": {
      "needs_background": "light"
     },
     "output_type": "display_data"
    }
   ],
   "source": [
    "### Conjunto de Validação ###\n",
    "\n",
    "print (\"### Matriz de confusão para o conjunto de validação ###\")\n",
    "\n",
    "#Conjunto de validação\n",
    "validation_datagen = ImageDataGenerator(rescale = 1./255)\n",
    "\n",
    "validation_set = validation_datagen.flow_from_directory('classificador_A/validation/',\n",
    "                                            target_size = (128, 128),\n",
    "                                            color_mode=\"rgb\",\n",
    "                                            batch_size = batch, #alterado para 1\n",
    "                                            class_mode = 'categorical',\n",
    "                                            shuffle= False)\n",
    "\n",
    "\n",
    "#Confution Matrix\n",
    "Y_pred = model.predict_generator(validation_set, num_validation//batch, verbose=1)\n",
    "\n",
    "test_preds = np.argmax(Y_pred, axis=-1)\n",
    "l=test_preds.shape[0]\n",
    "test_trues = validation_set.classes\n",
    "cm =confusion_matrix(test_trues[:l], test_preds)\n",
    "\n",
    "print_confusion_matrix(cm, [\"documentos\", \"nao_documentos\"], figsize = (10,7), fontsize=11)\n"
   ]
  },
  {
   "cell_type": "code",
   "execution_count": 11,
   "metadata": {},
   "outputs": [
    {
     "name": "stdout",
     "output_type": "stream",
     "text": [
      "### Matriz de confusão para o conjunto de teste ###\n",
      "Found 1198 images belonging to 2 classes.\n",
      "1198/1198 [==============================] - 481s 402ms/step\n",
      "1198/1198 [==============================] - 558s 466ms/step\n",
      "Test accuracy: 0.932\n",
      "Test loss: 0.187\n"
     ]
    },
    {
     "data": {
      "image/png": "[encoded data removed]",
      "text/plain": [
       "<Figure size 720x504 with 2 Axes>"
      ]
     },
     "metadata": {
      "needs_background": "light"
     },
     "output_type": "display_data"
    }
   ],
   "source": [
    "### Conjunto de Teste ###\n",
    "\n",
    "print (\"### Matriz de confusão para o conjunto de teste ###\")\n",
    "\n",
    "test_datagen = ImageDataGenerator(rescale = 1./255)\n",
    "\n",
    "test_set = test_datagen.flow_from_directory('classificador_A/test/',\n",
    "                                            target_size = (128, 128),\n",
    "                                            color_mode=\"rgb\",\n",
    "                                            batch_size = 1,\n",
    "                                            class_mode = 'categorical',\n",
    "                                            shuffle=False)\n",
    "num_test = test_set.samples\n",
    "\n",
    "\n",
    "#Confution Matrix\n",
    "Y_pred = model.predict_generator(test_set, num_test, verbose=1)\n",
    "\n",
    "test_preds = np.argmax(Y_pred, axis=-1)\n",
    "l=test_preds.shape[0]\n",
    "test_trues = test_set.classes\n",
    "cm =confusion_matrix(test_trues[:l], test_preds)\n",
    "\n",
    "print_confusion_matrix(cm, [\"documentos\", \"nao_documentos\"], figsize = (10,7), fontsize=11)\n",
    "\n",
    "# Accuracy and Loss for the Test set\n",
    "loss, acc = model.evaluate_generator(test_set, num_test, verbose=1)\n",
    "\n",
    "# Final accuracy and loss\n",
    "print (\"Test accuracy: %.3f\" % acc)\n",
    "print (\"Test loss: %.3f\" % loss)\n"
   ]
  },
  {
   "cell_type": "code",
   "execution_count": null,
   "metadata": {},
   "outputs": [],
   "source": []
  }
 ],
 "metadata": {
  "kernelspec": {
   "display_name": "Python 3",
   "language": "python",
   "name": "python3"
  },
  "language_info": {
   "codemirror_mode": {
    "name": "ipython",
    "version": 3
   },
   "file_extension": ".py",
   "mimetype": "text/x-python",
   "name": "python",
   "nbconvert_exporter": "python",
   "pygments_lexer": "ipython3",
   "version": "3.6.5"
  }
 },
 "nbformat": 4,
 "nbformat_minor": 2
}
