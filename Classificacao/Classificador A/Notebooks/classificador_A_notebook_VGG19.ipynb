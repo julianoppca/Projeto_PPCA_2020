{
 "cells": [
  {
   "cell_type": "code",
   "execution_count": 1,
   "metadata": {},
   "outputs": [],
   "source": [
    "# Não exibir warnings\n",
    "import os\n",
    "import sys\n",
    "sys.stderr = open(os.devnull, \"w\")  # silence stderr\n",
    "sys.stderr = sys.__stderr__  # unsilence stderr"
   ]
  },
  {
   "cell_type": "code",
   "execution_count": 2,
   "metadata": {},
   "outputs": [],
   "source": [
    "#https://github.com/PacktPublishing/Neural-Network-Projects-with-Python/blob/master/Chapter04/main_vgg16.py\n",
    "\n",
    "from keras.applications.vgg19 import VGG19\n",
    "from keras.models import Model\n",
    "\n",
    "from keras.models import Sequential\n",
    "from keras.layers import Conv2D\n",
    "from keras.layers import MaxPooling2D\n",
    "from keras.layers import Flatten\n",
    "from keras.layers import Dense\n",
    "import matplotlib.pyplot as plt \n",
    "from sklearn.metrics import classification_report, confusion_matrix\n",
    "import tensorflow as tf\n",
    "import numpy as np\n",
    "import pandas as pd\n",
    "import seaborn as sns\n",
    "\n",
    "from PIL import Image, ImageFile\n",
    "ImageFile.LOAD_TRUNCATED_IMAGES = True"
   ]
  },
  {
   "cell_type": "code",
   "execution_count": 3,
   "metadata": {},
   "outputs": [],
   "source": [
    "#Função de geração da matriz de confusão\n",
    "def print_confusion_matrix(confusion_matrix, class_names, figsize = (10,7), fontsize=11):\n",
    "    df_cm = pd.DataFrame(\n",
    "        confusion_matrix, index=class_names, columns=class_names, \n",
    "    )\n",
    "    fig = plt.figure(figsize=figsize)\n",
    "    try:\n",
    "        heatmap = sns.heatmap(df_cm, cmap=\"YlGnBu\", annot=True, fmt=\"d\")\n",
    "    except ValueError:\n",
    "        raise ValueError(\"Confusion matrix values must be integers.\")\n",
    "    heatmap.yaxis.set_ticklabels(heatmap.yaxis.get_ticklabels(), rotation=0, ha='right', fontsize=fontsize)\n",
    "    heatmap.xaxis.set_ticklabels(heatmap.xaxis.get_ticklabels(), rotation=30, ha='right', fontsize=fontsize)\n",
    "    plt.ylabel('True label')\n",
    "    plt.xlabel('Predicted label')\n",
    "    #return fig  "
   ]
  },
  {
   "cell_type": "code",
   "execution_count": 4,
   "metadata": {},
   "outputs": [],
   "source": [
    "batch = 32\n",
    "#num_train = 5600\n",
    "#num_validation = 2400"
   ]
  },
  {
   "cell_type": "code",
   "execution_count": 5,
   "metadata": {},
   "outputs": [
    {
     "name": "stdout",
     "output_type": "stream",
     "text": [
      "WARNING:tensorflow:From D:\\Usuarios\\spi112884\\Anaconda3\\lib\\site-packages\\tensorflow_core\\python\\ops\\resource_variable_ops.py:1630: calling BaseResourceVariable.__init__ (from tensorflow.python.ops.resource_variable_ops) with constraint is deprecated and will be removed in a future version.\n",
      "Instructions for updating:\n",
      "If using Keras pass *_constraint arguments to layers.\n",
      "WARNING:tensorflow:From D:\\Usuarios\\spi112884\\Anaconda3\\lib\\site-packages\\keras\\backend\\tensorflow_backend.py:4070: The name tf.nn.max_pool is deprecated. Please use tf.nn.max_pool2d instead.\n",
      "\n"
     ]
    }
   ],
   "source": [
    "### Transfer Learning ###\n",
    "\n",
    "vgg19 = VGG19(include_top=False, weights='imagenet', input_shape=(128,128,3))\n",
    "\n",
    "# Freeze the pre-trained layers\n",
    "for layer in vgg19.layers:\n",
    "    layer.trainable = False\n",
    "\n",
    "# Add a fully connected layer with 2 nodes at the end \n",
    "input_ = vgg19.input\n",
    "output_ = vgg19(input_)\n",
    "last_layer = Flatten(name='flatten')(output_)\n",
    "last_layer = Dense(2, activation='sigmoid')(last_layer)\n",
    "model = Model(input=input_, output=last_layer)\n",
    "\n",
    "model.compile(optimizer = 'adam', loss = 'categorical_crossentropy', metrics = ['accuracy'])"
   ]
  },
  {
   "cell_type": "code",
   "execution_count": 6,
   "metadata": {},
   "outputs": [
    {
     "name": "stdout",
     "output_type": "stream",
     "text": [
      "### Estrutura VGG19 ###\n",
      "Model: \"vgg19\"\n",
      "_________________________________________________________________\n",
      "Layer (type)                 Output Shape              Param #   \n",
      "=================================================================\n",
      "input_1 (InputLayer)         (None, 128, 128, 3)       0         \n",
      "_________________________________________________________________\n",
      "block1_conv1 (Conv2D)        (None, 128, 128, 64)      1792      \n",
      "_________________________________________________________________\n",
      "block1_conv2 (Conv2D)        (None, 128, 128, 64)      36928     \n",
      "_________________________________________________________________\n",
      "block1_pool (MaxPooling2D)   (None, 64, 64, 64)        0         \n",
      "_________________________________________________________________\n",
      "block2_conv1 (Conv2D)        (None, 64, 64, 128)       73856     \n",
      "_________________________________________________________________\n",
      "block2_conv2 (Conv2D)        (None, 64, 64, 128)       147584    \n",
      "_________________________________________________________________\n",
      "block2_pool (MaxPooling2D)   (None, 32, 32, 128)       0         \n",
      "_________________________________________________________________\n",
      "block3_conv1 (Conv2D)        (None, 32, 32, 256)       295168    \n",
      "_________________________________________________________________\n",
      "block3_conv2 (Conv2D)        (None, 32, 32, 256)       590080    \n",
      "_________________________________________________________________\n",
      "block3_conv3 (Conv2D)        (None, 32, 32, 256)       590080    \n",
      "_________________________________________________________________\n",
      "block3_conv4 (Conv2D)        (None, 32, 32, 256)       590080    \n",
      "_________________________________________________________________\n",
      "block3_pool (MaxPooling2D)   (None, 16, 16, 256)       0         \n",
      "_________________________________________________________________\n",
      "block4_conv1 (Conv2D)        (None, 16, 16, 512)       1180160   \n",
      "_________________________________________________________________\n",
      "block4_conv2 (Conv2D)        (None, 16, 16, 512)       2359808   \n",
      "_________________________________________________________________\n",
      "block4_conv3 (Conv2D)        (None, 16, 16, 512)       2359808   \n",
      "_________________________________________________________________\n",
      "block4_conv4 (Conv2D)        (None, 16, 16, 512)       2359808   \n",
      "_________________________________________________________________\n",
      "block4_pool (MaxPooling2D)   (None, 8, 8, 512)         0         \n",
      "_________________________________________________________________\n",
      "block5_conv1 (Conv2D)        (None, 8, 8, 512)         2359808   \n",
      "_________________________________________________________________\n",
      "block5_conv2 (Conv2D)        (None, 8, 8, 512)         2359808   \n",
      "_________________________________________________________________\n",
      "block5_conv3 (Conv2D)        (None, 8, 8, 512)         2359808   \n",
      "_________________________________________________________________\n",
      "block5_conv4 (Conv2D)        (None, 8, 8, 512)         2359808   \n",
      "_________________________________________________________________\n",
      "block5_pool (MaxPooling2D)   (None, 4, 4, 512)         0         \n",
      "=================================================================\n",
      "Total params: 20,024,384\n",
      "Trainable params: 0\n",
      "Non-trainable params: 20,024,384\n",
      "_________________________________________________________________\n",
      "\n",
      "\n",
      "### Estrutura do modelo ###\n",
      "Model: \"model_1\"\n",
      "_________________________________________________________________\n",
      "Layer (type)                 Output Shape              Param #   \n",
      "=================================================================\n",
      "input_1 (InputLayer)         (None, 128, 128, 3)       0         \n",
      "_________________________________________________________________\n",
      "vgg19 (Model)                (None, 4, 4, 512)         20024384  \n",
      "_________________________________________________________________\n",
      "flatten (Flatten)            (None, 8192)              0         \n",
      "_________________________________________________________________\n",
      "dense_1 (Dense)              (None, 2)                 16386     \n",
      "=================================================================\n",
      "Total params: 20,040,770\n",
      "Trainable params: 16,386\n",
      "Non-trainable params: 20,024,384\n",
      "_________________________________________________________________\n"
     ]
    }
   ],
   "source": [
    "print (\"### Estrutura VGG19 ###\")\n",
    "vgg19.summary()\n",
    "\n",
    "print (\"\\n\\n### Estrutura do modelo ###\")\n",
    "model.summary()"
   ]
  },
  {
   "cell_type": "code",
   "execution_count": 7,
   "metadata": {},
   "outputs": [
    {
     "name": "stdout",
     "output_type": "stream",
     "text": [
      "Found 4996 images belonging to 2 classes.\n",
      "{'documentos': 0, 'nao_documentos': 1}\n",
      "Found 2396 images belonging to 2 classes.\n"
     ]
    }
   ],
   "source": [
    "# Part 2 - Fitting the CNN to the images\n",
    "\n",
    "from keras.preprocessing.image import ImageDataGenerator\n",
    "\n",
    "#Conjunto de treinamento\n",
    "train_datagen = ImageDataGenerator(rescale = 1./255,\n",
    "                                   shear_range = 0.2,\n",
    "                                   zoom_range = 0.2,\n",
    "                                   horizontal_flip = True)\n",
    "\n",
    "training_set = train_datagen.flow_from_directory('classificador_A/train',\n",
    "                                                 target_size = (128, 128),\n",
    "                                                 color_mode=\"rgb\",\n",
    "                                                 batch_size = batch,\n",
    "                                                 class_mode = 'categorical',\n",
    "                                                 shuffle = True)\n",
    "\n",
    "print (training_set.class_indices)\n",
    "#Conjunto de validação\n",
    "validation_datagen = ImageDataGenerator(rescale = 1./255)\n",
    "\n",
    "validation_set = validation_datagen.flow_from_directory('classificador_A/validation/',\n",
    "                                            target_size = (128, 128),\n",
    "                                            color_mode=\"rgb\",\n",
    "                                            batch_size = batch, #alterado para 1\n",
    "                                            class_mode = 'categorical',\n",
    "                                            shuffle=True)\n",
    "num_train = training_set.samples\n",
    "num_validation = validation_set.samples"
   ]
  },
  {
   "cell_type": "code",
   "execution_count": 8,
   "metadata": {},
   "outputs": [
    {
     "name": "stdout",
     "output_type": "stream",
     "text": [
      "WARNING:tensorflow:From D:\\Usuarios\\spi112884\\Anaconda3\\lib\\site-packages\\tensorflow_core\\python\\ops\\math_grad.py:1424: where (from tensorflow.python.ops.array_ops) is deprecated and will be removed in a future version.\n",
      "Instructions for updating:\n",
      "Use tf.where in 2.0, which has the same broadcast rule as np.where\n",
      "WARNING:tensorflow:From D:\\Usuarios\\spi112884\\Anaconda3\\lib\\site-packages\\keras\\backend\\tensorflow_backend.py:422: The name tf.global_variables is deprecated. Please use tf.compat.v1.global_variables instead.\n",
      "\n",
      "Epoch 1/50\n",
      "156/156 [==============================] - 155s 991ms/step - loss: 0.1424 - accuracy: 0.9506 - val_loss: 0.0414 - val_accuracy: 0.9704\n",
      "Epoch 2/50\n",
      "156/156 [==============================] - 105s 671ms/step - loss: 0.0854 - accuracy: 0.9722 - val_loss: 0.0628 - val_accuracy: 0.9683\n",
      "Epoch 3/50\n",
      "156/156 [==============================] - 100s 639ms/step - loss: 0.0688 - accuracy: 0.9769 - val_loss: 0.1339 - val_accuracy: 0.9788\n",
      "Epoch 4/50\n",
      "156/156 [==============================] - 103s 662ms/step - loss: 0.0575 - accuracy: 0.9788 - val_loss: 0.0451 - val_accuracy: 0.9835\n",
      "Epoch 5/50\n",
      "156/156 [==============================] - 100s 640ms/step - loss: 0.0469 - accuracy: 0.9839 - val_loss: 0.0070 - val_accuracy: 0.9827\n",
      "Epoch 6/50\n",
      "156/156 [==============================] - 99s 632ms/step - loss: 0.0480 - accuracy: 0.9833 - val_loss: 0.0114 - val_accuracy: 0.9822\n",
      "Epoch 7/50\n",
      "156/156 [==============================] - 98s 631ms/step - loss: 0.0418 - accuracy: 0.9845 - val_loss: 0.0065 - val_accuracy: 0.9822\n",
      "Epoch 8/50\n",
      "156/156 [==============================] - 98s 629ms/step - loss: 0.0374 - accuracy: 0.9853 - val_loss: 0.0292 - val_accuracy: 0.9831\n",
      "Epoch 9/50\n",
      "156/156 [==============================] - 96s 616ms/step - loss: 0.0360 - accuracy: 0.9871 - val_loss: 0.0165 - val_accuracy: 0.9865\n",
      "Epoch 10/50\n",
      "156/156 [==============================] - 98s 628ms/step - loss: 0.0350 - accuracy: 0.9875 - val_loss: 0.0118 - val_accuracy: 0.9848\n",
      "Epoch 11/50\n",
      "156/156 [==============================] - 104s 666ms/step - loss: 0.0365 - accuracy: 0.9873 - val_loss: 0.0151 - val_accuracy: 0.9860\n",
      "Epoch 12/50\n",
      "156/156 [==============================] - 96s 616ms/step - loss: 0.0343 - accuracy: 0.9871 - val_loss: 0.0100 - val_accuracy: 0.9827\n",
      "Epoch 13/50\n",
      "156/156 [==============================] - 95s 608ms/step - loss: 0.0268 - accuracy: 0.9907 - val_loss: 0.0320 - val_accuracy: 0.9852\n",
      "Epoch 14/50\n",
      "156/156 [==============================] - 93s 597ms/step - loss: 0.0261 - accuracy: 0.9911 - val_loss: 0.0738 - val_accuracy: 0.9856\n",
      "Epoch 15/50\n",
      "156/156 [==============================] - 95s 610ms/step - loss: 0.0264 - accuracy: 0.9900 - val_loss: 0.1516 - val_accuracy: 0.9856\n",
      "Epoch 16/50\n",
      "156/156 [==============================] - 93s 594ms/step - loss: 0.0231 - accuracy: 0.9917 - val_loss: 0.0350 - val_accuracy: 0.9856\n",
      "Epoch 17/50\n",
      "156/156 [==============================] - 96s 613ms/step - loss: 0.0249 - accuracy: 0.9905 - val_loss: 0.0146 - val_accuracy: 0.9865\n",
      "Epoch 18/50\n",
      "156/156 [==============================] - 95s 606ms/step - loss: 0.0201 - accuracy: 0.9927 - val_loss: 0.0016 - val_accuracy: 0.9827\n",
      "Epoch 19/50\n",
      "156/156 [==============================] - 96s 615ms/step - loss: 0.0205 - accuracy: 0.9921 - val_loss: 0.0030 - val_accuracy: 0.9860\n",
      "Epoch 20/50\n",
      "156/156 [==============================] - 93s 594ms/step - loss: 0.0180 - accuracy: 0.9929 - val_loss: 0.0151 - val_accuracy: 0.9843\n",
      "Epoch 21/50\n",
      "156/156 [==============================] - 97s 621ms/step - loss: 0.0234 - accuracy: 0.9913 - val_loss: 0.0049 - val_accuracy: 0.9843\n",
      "Epoch 22/50\n",
      "156/156 [==============================] - 97s 623ms/step - loss: 0.0189 - accuracy: 0.9936 - val_loss: 0.0014 - val_accuracy: 0.9814\n",
      "Epoch 23/50\n",
      "156/156 [==============================] - 94s 605ms/step - loss: 0.0179 - accuracy: 0.9934 - val_loss: 0.0520 - val_accuracy: 0.9848\n",
      "Epoch 24/50\n",
      "156/156 [==============================] - 95s 610ms/step - loss: 0.0165 - accuracy: 0.9937 - val_loss: 0.0914 - val_accuracy: 0.9869\n",
      "Epoch 25/50\n",
      "156/156 [==============================] - 94s 605ms/step - loss: 0.0162 - accuracy: 0.9938 - val_loss: 0.0077 - val_accuracy: 0.9835\n",
      "Epoch 26/50\n",
      "156/156 [==============================] - 95s 612ms/step - loss: 0.0156 - accuracy: 0.9938 - val_loss: 0.0040 - val_accuracy: 0.9818\n",
      "Epoch 27/50\n",
      "156/156 [==============================] - 93s 599ms/step - loss: 0.0176 - accuracy: 0.9948 - val_loss: 0.0183 - val_accuracy: 0.9822\n",
      "Epoch 28/50\n",
      "156/156 [==============================] - 95s 606ms/step - loss: 0.0183 - accuracy: 0.9927 - val_loss: 0.0025 - val_accuracy: 0.9877\n",
      "Epoch 29/50\n",
      "156/156 [==============================] - 93s 595ms/step - loss: 0.0120 - accuracy: 0.9960 - val_loss: 0.0557 - val_accuracy: 0.9822\n",
      "Epoch 30/50\n",
      "156/156 [==============================] - 97s 624ms/step - loss: 0.0171 - accuracy: 0.9925 - val_loss: 0.0015 - val_accuracy: 0.9843\n",
      "Epoch 31/50\n",
      "156/156 [==============================] - 98s 625ms/step - loss: 0.0218 - accuracy: 0.9913 - val_loss: 0.0250 - val_accuracy: 0.9873\n",
      "Epoch 32/50\n",
      "156/156 [==============================] - 100s 643ms/step - loss: 0.0163 - accuracy: 0.9938 - val_loss: 0.3991 - val_accuracy: 0.9852\n",
      "Epoch 33/50\n",
      "156/156 [==============================] - 96s 612ms/step - loss: 0.0136 - accuracy: 0.9946 - val_loss: 0.0034 - val_accuracy: 0.9822\n",
      "Epoch 34/50\n",
      "156/156 [==============================] - 93s 594ms/step - loss: 0.0118 - accuracy: 0.9956 - val_loss: 0.0012 - val_accuracy: 0.9856\n",
      "Epoch 35/50\n",
      "156/156 [==============================] - 95s 608ms/step - loss: 0.0122 - accuracy: 0.9964 - val_loss: 0.0213 - val_accuracy: 0.9835\n",
      "Epoch 36/50\n",
      "156/156 [==============================] - 95s 609ms/step - loss: 0.0101 - accuracy: 0.9956 - val_loss: 0.0030 - val_accuracy: 0.9814\n",
      "Epoch 37/50\n",
      "156/156 [==============================] - 93s 599ms/step - loss: 0.0094 - accuracy: 0.9972 - val_loss: 0.1145 - val_accuracy: 0.9856\n",
      "Epoch 38/50\n",
      "156/156 [==============================] - 96s 614ms/step - loss: 0.0126 - accuracy: 0.9952 - val_loss: 0.0026 - val_accuracy: 0.9852\n",
      "Epoch 39/50\n",
      "156/156 [==============================] - 96s 613ms/step - loss: 0.0111 - accuracy: 0.9954 - val_loss: 0.0025 - val_accuracy: 0.9869\n",
      "Epoch 40/50\n",
      "156/156 [==============================] - 99s 633ms/step - loss: 0.0143 - accuracy: 0.9944 - val_loss: 0.0019 - val_accuracy: 0.9852\n",
      "Epoch 41/50\n",
      "156/156 [==============================] - 92s 592ms/step - loss: 0.0091 - accuracy: 0.9972 - val_loss: 0.1628 - val_accuracy: 0.9679\n",
      "Epoch 42/50\n",
      "156/156 [==============================] - 95s 606ms/step - loss: 0.0157 - accuracy: 0.9940 - val_loss: 0.0106 - val_accuracy: 0.9852\n",
      "Epoch 43/50\n",
      "156/156 [==============================] - 94s 604ms/step - loss: 0.0160 - accuracy: 0.9936 - val_loss: 0.0056 - val_accuracy: 0.9843\n",
      "Epoch 44/50\n",
      "156/156 [==============================] - 90s 576ms/step - loss: 0.0108 - accuracy: 0.9964 - val_loss: 0.0437 - val_accuracy: 0.9848\n",
      "Epoch 45/50\n",
      "156/156 [==============================] - 93s 597ms/step - loss: 0.0089 - accuracy: 0.9970 - val_loss: 0.0079 - val_accuracy: 0.9860\n",
      "Epoch 46/50\n",
      "156/156 [==============================] - 91s 585ms/step - loss: 0.0126 - accuracy: 0.9946 - val_loss: 0.0043 - val_accuracy: 0.9835\n",
      "Epoch 47/50\n",
      "156/156 [==============================] - 95s 611ms/step - loss: 0.0128 - accuracy: 0.9952 - val_loss: 0.1520 - val_accuracy: 0.9805\n",
      "Epoch 48/50\n",
      "156/156 [==============================] - 93s 598ms/step - loss: 0.0116 - accuracy: 0.9954 - val_loss: 0.3012 - val_accuracy: 0.9852\n",
      "Epoch 49/50\n",
      "156/156 [==============================] - 92s 591ms/step - loss: 0.0093 - accuracy: 0.9958 - val_loss: 0.1303 - val_accuracy: 0.9848\n",
      "Epoch 50/50\n",
      "156/156 [==============================] - 93s 597ms/step - loss: 0.0113 - accuracy: 0.9962 - val_loss: 0.0592 - val_accuracy: 0.9831\n"
     ]
    }
   ],
   "source": [
    "with tf.device('/gpu:0'): #rodar na GPU\n",
    "    history = model.fit_generator(training_set,\n",
    "                         steps_per_epoch = (num_train//batch),\n",
    "                         epochs = 50,\n",
    "                         validation_data = validation_set,\n",
    "                         validation_steps = (num_validation//batch), verbose=1)\n",
    "    \n",
    "\n",
    "model.save('modelo_classificador_A_VGG19_dist_01.h5')"
   ]
  },
  {
   "cell_type": "code",
   "execution_count": 10,
   "metadata": {},
   "outputs": [
    {
     "name": "stdout",
     "output_type": "stream",
     "text": [
      "Train accuracy: 0.996\n",
      "Train loss: 0.011 \n",
      "\n",
      "Validation accuracy: 0.983\n",
      "Validation loss: 0.059\n"
     ]
    },
    {
     "data": {
      "image/png": "[encoded data removed]",
      "text/plain": [
       "<Figure size 432x288 with 1 Axes>"
      ]
     },
     "metadata": {
      "needs_background": "light"
     },
     "output_type": "display_data"
    },
    {
     "data": {
      "image/png": "[encoded data removed]",
      "text/plain": [
       "<Figure size 432x288 with 1 Axes>"
      ]
     },
     "metadata": {
      "needs_background": "light"
     },
     "output_type": "display_data"
    }
   ],
   "source": [
    "# Final accuracy and loss\n",
    "print (\"Train accuracy: %.3f\" % (history.history['accuracy'][-1]))\n",
    "print (\"Train loss: %.3f\" % (history.history['loss'][-1]),\"\\n\")\n",
    "\n",
    "print (\"Validation accuracy: %.3f\" % (history.history['val_accuracy'][-1]))\n",
    "print (\"Validation loss: %.3f\" % (history.history['val_loss'][-1]))\n",
    "\n",
    "# Plot training & validation accuracy values\n",
    "plt.plot(history.history['accuracy'])\n",
    "plt.plot(history.history['val_accuracy'])\n",
    "plt.title('Model accuracy')\n",
    "plt.ylabel('Accuracy')\n",
    "plt.xlabel('Epoch')\n",
    "plt.legend(['Train', 'Validation'], loc='upper left')\n",
    "plt.show()\n",
    "\n",
    "# Plot training & validation loss values\n",
    "plt.plot(history.history['loss'])\n",
    "plt.plot(history.history['val_loss'])\n",
    "plt.title('Model loss')\n",
    "plt.ylabel('Loss')\n",
    "plt.xlabel('Epoch')\n",
    "plt.legend(['Train', 'Validation'], loc='upper left')\n",
    "plt.show()"
   ]
  },
  {
   "cell_type": "code",
   "execution_count": 11,
   "metadata": {},
   "outputs": [
    {
     "name": "stdout",
     "output_type": "stream",
     "text": [
      "### Matriz de confusão para o conjunto de validação ###\n",
      "Found 2396 images belonging to 2 classes.\n",
      "74/74 [==============================] - 26s 354ms/step\n"
     ]
    },
    {
     "data": {
      "image/png": "[encoded data removed]",
      "text/plain": [
       "<Figure size 720x504 with 2 Axes>"
      ]
     },
     "metadata": {
      "needs_background": "light"
     },
     "output_type": "display_data"
    }
   ],
   "source": [
    "### Conjunto de Validação ###\n",
    "\n",
    "print (\"### Matriz de confusão para o conjunto de validação ###\")\n",
    "\n",
    "#Conjunto de validação\n",
    "validation_datagen = ImageDataGenerator(rescale = 1./255)\n",
    "\n",
    "validation_set = validation_datagen.flow_from_directory('classificador_A/validation/',\n",
    "                                            target_size = (128, 128),\n",
    "                                            color_mode=\"rgb\",\n",
    "                                            batch_size = batch, #alterado para 1\n",
    "                                            class_mode = 'categorical',\n",
    "                                            shuffle= False)\n",
    "\n",
    "\n",
    "#Confution Matrix\n",
    "Y_pred = model.predict_generator(validation_set, num_validation//batch, verbose=1)\n",
    "\n",
    "test_preds = np.argmax(Y_pred, axis=-1)\n",
    "l=test_preds.shape[0]\n",
    "test_trues = validation_set.classes\n",
    "cm =confusion_matrix(test_trues[:l], test_preds)\n",
    "\n",
    "print_confusion_matrix(cm, [\"documentos\", \"nao_documentos\"], figsize = (10,7), fontsize=11)\n"
   ]
  },
  {
   "cell_type": "code",
   "execution_count": 12,
   "metadata": {},
   "outputs": [
    {
     "name": "stdout",
     "output_type": "stream",
     "text": [
      "### Matriz de confusão para o conjunto de teste ###\n",
      "Found 1198 images belonging to 2 classes.\n",
      "1198/1198 [==============================] - 25s 21ms/step\n",
      "1198/1198 [==============================] - 23s 19ms/step\n",
      "Test accuracy: 0.976\n",
      "Test loss: 0.000\n"
     ]
    },
    {
     "data": {
      "image/png": "[encoded data removed]",
      "text/plain": [
       "<Figure size 720x504 with 2 Axes>"
      ]
     },
     "metadata": {
      "needs_background": "light"
     },
     "output_type": "display_data"
    }
   ],
   "source": [
    "### Conjunto de Teste ###\n",
    "\n",
    "print (\"### Matriz de confusão para o conjunto de teste ###\")\n",
    "\n",
    "test_datagen = ImageDataGenerator(rescale = 1./255)\n",
    "\n",
    "test_set = test_datagen.flow_from_directory('classificador_A/test/',\n",
    "                                            target_size = (128, 128),\n",
    "                                            color_mode=\"rgb\",\n",
    "                                            batch_size = 1,\n",
    "                                            class_mode = 'categorical',\n",
    "                                            shuffle=False)\n",
    "num_test = test_set.samples\n",
    "\n",
    "\n",
    "#Confution Matrix\n",
    "Y_pred = model.predict_generator(test_set, num_test, verbose=1)\n",
    "\n",
    "test_preds = np.argmax(Y_pred, axis=-1)\n",
    "l=test_preds.shape[0]\n",
    "test_trues = test_set.classes\n",
    "cm =confusion_matrix(test_trues[:l], test_preds)\n",
    "\n",
    "print_confusion_matrix(cm, [\"documentos\", \"nao_documentos\"], figsize = (10,7), fontsize=11)\n",
    "\n",
    "# Accuracy and Loss for the Test set\n",
    "loss, acc = model.evaluate_generator(test_set, num_test, verbose=1)\n",
    "\n",
    "# Final accuracy and loss\n",
    "print (\"Test accuracy: %.3f\" % acc)\n",
    "print (\"Test loss: %.3f\" % loss)\n"
   ]
  },
  {
   "cell_type": "code",
   "execution_count": null,
   "metadata": {},
   "outputs": [],
   "source": []
  }
 ],
 "metadata": {
  "kernelspec": {
   "display_name": "Python 3",
   "language": "python",
   "name": "python3"
  },
  "language_info": {
   "codemirror_mode": {
    "name": "ipython",
    "version": 3
   },
   "file_extension": ".py",
   "mimetype": "text/x-python",
   "name": "python",
   "nbconvert_exporter": "python",
   "pygments_lexer": "ipython3",
   "version": "3.7.4"
  }
 },
 "nbformat": 4,
 "nbformat_minor": 2
}
