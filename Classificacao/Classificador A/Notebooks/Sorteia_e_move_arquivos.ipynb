{
 "cells": [
  {
   "cell_type": "code",
   "execution_count": 18,
   "metadata": {},
   "outputs": [],
   "source": [
    "import os, random, shutil\n",
    "\n",
    "# Crias os diretórios de treinamento, validação e teste\n",
    "# Com as pastas dos grupo a seres classificados\n",
    "if not os.path.exists('classificador_A\\\\train\\\\documentos'):\n",
    "    os.makedirs('classificador_A\\\\train\\\\documentos')\n",
    "if not os.path.exists('classificador_A\\\\train\\\\nao_documentos'):\n",
    "    os.makedirs('classificador_A\\\\train\\\\nao_documentos')\n",
    "\n",
    "if not os.path.exists('classificador_A\\\\validation\\\\documentos'):\n",
    "    os.makedirs('classificador_A\\\\validation\\\\documentos')\n",
    "if not os.path.exists('classificador_A\\\\validation\\\\nao_documentos'):\n",
    "    os.makedirs('classificador_A\\\\validation\\\\nao_documentos')\n",
    "    \n",
    "if not os.path.exists('classificador_A\\\\test\\\\documentos'):\n",
    "    os.makedirs('classificador_A\\\\test\\\\documentos')\n",
    "if not os.path.exists('classificador_A\\\\test\\\\nao_documentos'):\n",
    "    os.makedirs('classificador_A\\\\test\\\\nao_documentos')\n"
   ]
  },
  {
   "cell_type": "code",
   "execution_count": 19,
   "metadata": {},
   "outputs": [],
   "source": [
    "#Escolhe os arquivos do grupo DOCUMENTOS para o conjunto de treinamento, validação e teste\n",
    "#E Move os arquivos para suas respectivas pastas (treinamento, validação e teste)\n",
    "path_origem_docs = 'classificador_A\\\\bd_imagens\\\\documentos'\n",
    "file_names_doc_train = random.sample(os.listdir(path_origem_docs),k=2500)\n",
    "for file in file_names_doc_train:\n",
    "    shutil.move(os.path.join(path_origem_docs, file), 'classificador_A\\\\train\\\\documentos')\n",
    "    \n",
    "file_names_doc_validation = random.sample(os.listdir(path_origem_docs),k=1200)\n",
    "for file in file_names_doc_validation:\n",
    "    shutil.move(os.path.join(path_origem_docs, file), 'classificador_A\\\\validation\\\\documentos')\n",
    "    \n",
    "file_names_doc_test = random.sample(os.listdir(path_origem_docs),k=600)\n",
    "for file in file_names_doc_test:\n",
    "    shutil.move(os.path.join(path_origem_docs, file), 'classificador_A\\\\test\\\\documentos')\n",
    "    \n",
    "\n",
    "#Escolhe os arquivos do grupo NÃO DOCUMENTOS para o conjunto de treinamento, validação e teste\n",
    "#E Move os arquivos para suas respectivas pastas (treinamento, validação e teste)\n",
    "path_origem_ndocs = 'classificador_A\\\\bd_imagens\\\\nao_documentos'\n",
    "file_names_ndoc_train = random.sample(os.listdir(path_origem_ndocs),k=2500)\n",
    "for file in file_names_ndoc_train:\n",
    "    shutil.move(os.path.join(path_origem_ndocs, file), 'classificador_A\\\\train\\\\nao_documentos')\n",
    "    \n",
    "file_names_ndoc_validation = random.sample(os.listdir(path_origem_ndocs),k=1200)\n",
    "for file in file_names_ndoc_validation:\n",
    "    shutil.move(os.path.join(path_origem_ndocs, file), 'classificador_A\\\\validation\\\\nao_documentos')\n",
    "    \n",
    "file_names_ndoc_test = random.sample(os.listdir(path_origem_ndocs),k=600)\n",
    "for file in file_names_ndoc_test:\n",
    "    shutil.move(os.path.join(path_origem_ndocs, file), 'classificador_A\\\\test\\\\nao_documentos')"
   ]
  },
  {
   "cell_type": "code",
   "execution_count": null,
   "metadata": {},
   "outputs": [],
   "source": []
  }
 ],
 "metadata": {
  "kernelspec": {
   "display_name": "Python 3",
   "language": "python",
   "name": "python3"
  },
  "language_info": {
   "codemirror_mode": {
    "name": "ipython",
    "version": 3
   },
   "file_extension": ".py",
   "mimetype": "text/x-python",
   "name": "python",
   "nbconvert_exporter": "python",
   "pygments_lexer": "ipython3",
   "version": "3.6.5"
  }
 },
 "nbformat": 4,
 "nbformat_minor": 2
}
