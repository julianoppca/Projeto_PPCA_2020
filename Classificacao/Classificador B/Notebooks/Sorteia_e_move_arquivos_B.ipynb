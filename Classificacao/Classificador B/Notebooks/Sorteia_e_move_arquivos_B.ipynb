{
 "cells": [
  {
   "cell_type": "code",
   "execution_count": 10,
   "metadata": {},
   "outputs": [],
   "source": [
    "import os, random, shutil\n",
    "\n",
    "# Crias os diretórios de treinamento, validação e teste\n",
    "# Com as pastas dos grupo a seres classificados\n",
    "if not os.path.exists('classificador_B\\\\train\\\\docs_gerais'):\n",
    "    os.makedirs('classificador_B\\\\train\\\\docs_gerais')\n",
    "if not os.path.exists('classificador_B\\\\train\\\\docs_identificacao'):\n",
    "    os.makedirs('classificador_B\\\\train\\\\docs_identificacao')\n",
    "\n",
    "if not os.path.exists('classificador_B\\\\validation\\\\docs_gerais'):\n",
    "    os.makedirs('classificador_B\\\\validation\\\\docs_gerais')\n",
    "if not os.path.exists('classificador_B\\\\validation\\\\docs_identificacao'):\n",
    "    os.makedirs('classificador_B\\\\validation\\\\docs_identificacao')\n",
    "    \n",
    "if not os.path.exists('classificador_B\\\\test\\\\docs_gerais'):\n",
    "    os.makedirs('classificador_B\\\\test\\\\docs_gerais')\n",
    "if not os.path.exists('classificador_B\\\\test\\\\docs_identificacao'):\n",
    "    os.makedirs('classificador_B\\\\test\\\\docs_identificacao')\n"
   ]
  },
  {
   "cell_type": "code",
   "execution_count": 11,
   "metadata": {},
   "outputs": [],
   "source": [
    "#Escolhe os arquivos do grupo docs_gerais para o conjunto de treinamento, validação e teste\n",
    "#E Move os arquivos para suas respectivas pastas (treinamento, validação e teste)\n",
    "path_origem_docs = 'classificador_B\\\\bd_imagens_B\\\\docs_gerais'\n",
    "file_names_doc_train = random.sample(os.listdir(path_origem_docs),k=1400)\n",
    "for file in file_names_doc_train:\n",
    "    shutil.move(os.path.join(path_origem_docs, file), 'classificador_B\\\\train\\\\docs_gerais')\n",
    "    \n",
    "file_names_doc_validation = random.sample(os.listdir(path_origem_docs),k=600)\n",
    "for file in file_names_doc_validation:\n",
    "    shutil.move(os.path.join(path_origem_docs, file), 'classificador_B\\\\validation\\\\docs_gerais')\n",
    "    \n",
    "file_names_doc_test = random.sample(os.listdir(path_origem_docs),k=300)\n",
    "for file in file_names_doc_test:\n",
    "    shutil.move(os.path.join(path_origem_docs, file), 'classificador_B\\\\test\\\\docs_gerais')\n",
    "    \n",
    "\n",
    "#Escolhe os arquivos do grupo docs_identificacao para o conjunto de treinamento, validação e teste\n",
    "#E Move os arquivos para suas respectivas pastas (treinamento, validação e teste)\n",
    "path_origem_ndocs = 'classificador_B\\\\bd_imagens_B\\\\docs_identificacao'\n",
    "file_names_ndoc_train = random.sample(os.listdir(path_origem_ndocs),k=1400)\n",
    "for file in file_names_ndoc_train:\n",
    "    shutil.move(os.path.join(path_origem_ndocs, file), 'classificador_B\\\\train\\\\docs_identificacao')\n",
    "    \n",
    "file_names_ndoc_validation = random.sample(os.listdir(path_origem_ndocs),k=600)\n",
    "for file in file_names_ndoc_validation:\n",
    "    shutil.move(os.path.join(path_origem_ndocs, file), 'classificador_B\\\\validation\\\\docs_identificacao')\n",
    "    \n",
    "file_names_ndoc_test = random.sample(os.listdir(path_origem_ndocs),k=300)\n",
    "for file in file_names_ndoc_test:\n",
    "    shutil.move(os.path.join(path_origem_ndocs, file), 'classificador_B\\\\test\\\\docs_identificacao')"
   ]
  },
  {
   "cell_type": "code",
   "execution_count": null,
   "metadata": {},
   "outputs": [],
   "source": []
  }
 ],
 "metadata": {
  "kernelspec": {
   "display_name": "Python 3",
   "language": "python",
   "name": "python3"
  },
  "language_info": {
   "codemirror_mode": {
    "name": "ipython",
    "version": 3
   },
   "file_extension": ".py",
   "mimetype": "text/x-python",
   "name": "python",
   "nbconvert_exporter": "python",
   "pygments_lexer": "ipython3",
   "version": "3.6.5"
  }
 },
 "nbformat": 4,
 "nbformat_minor": 2
}
