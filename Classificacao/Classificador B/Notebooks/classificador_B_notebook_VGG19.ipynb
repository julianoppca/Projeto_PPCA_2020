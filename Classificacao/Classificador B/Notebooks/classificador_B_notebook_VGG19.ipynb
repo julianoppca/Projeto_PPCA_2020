{
 "cells": [
  {
   "cell_type": "code",
   "execution_count": 1,
   "metadata": {},
   "outputs": [],
   "source": [
    "# Não exibir warnings\n",
    "import os\n",
    "import sys\n",
    "sys.stderr = open(os.devnull, \"w\")  # silence stderr\n",
    "sys.stderr = sys.__stderr__  # unsilence stderr"
   ]
  },
  {
   "cell_type": "code",
   "execution_count": 2,
   "metadata": {},
   "outputs": [],
   "source": [
    "from keras.applications.vgg19 import VGG19\n",
    "from keras.models import Model\n",
    "\n",
    "from keras.models import Sequential\n",
    "from keras.layers import Conv2D\n",
    "from keras.layers import MaxPooling2D\n",
    "from keras.layers import Flatten\n",
    "from keras.layers import Dense\n",
    "import matplotlib.pyplot as plt \n",
    "from sklearn.metrics import classification_report, confusion_matrix\n",
    "import tensorflow as tf\n",
    "import numpy as np\n",
    "import pandas as pd\n",
    "import seaborn as sns\n",
    "\n",
    "from PIL import Image, ImageFile\n",
    "ImageFile.LOAD_TRUNCATED_IMAGES = True"
   ]
  },
  {
   "cell_type": "code",
   "execution_count": 22,
   "metadata": {},
   "outputs": [],
   "source": [
    "#Função de geração da matriz de confusão\n",
    "def print_confusion_matrix(confusion_matrix, class_names, figsize = (7,7), fontsize=11):\n",
    "    df_cm = pd.DataFrame(\n",
    "        confusion_matrix, index=class_names, columns=class_names, \n",
    "    )\n",
    "    fig = plt.figure(figsize=figsize)\n",
    "    try:\n",
    "        heatmap = sns.heatmap(df_cm, cmap=\"YlGnBu\", annot=True, fmt=\"d\")\n",
    "    except ValueError:\n",
    "        raise ValueError(\"Confusion matrix values must be integers.\")\n",
    "    heatmap.yaxis.set_ticklabels(heatmap.yaxis.get_ticklabels(), rotation=0, ha='right', fontsize=fontsize)\n",
    "    heatmap.xaxis.set_ticklabels(heatmap.xaxis.get_ticklabels(), rotation=30, ha='right', fontsize=fontsize)\n",
    "    \n",
    "    b, t = plt.ylim() # discover the values for bottom and top\n",
    "    b += 0.5 # Add 0.5 to the bottom\n",
    "    t -= 0.5 # Subtract 0.5 from the top\n",
    "    plt.ylim(b, t) # update the ylim(bottom, top) values\n",
    "    \n",
    "    plt.ylabel('True label')\n",
    "    plt.xlabel('Predicted label')\n",
    "    #return fig  "
   ]
  },
  {
   "cell_type": "code",
   "execution_count": 4,
   "metadata": {},
   "outputs": [],
   "source": [
    "batch = 32\n",
    "#num_train = 5600\n",
    "#num_validation = 2400"
   ]
  },
  {
   "cell_type": "code",
   "execution_count": 5,
   "metadata": {},
   "outputs": [
    {
     "name": "stdout",
     "output_type": "stream",
     "text": [
      "WARNING:tensorflow:From D:\\Usuarios\\spi112884\\Anaconda3\\lib\\site-packages\\tensorflow_core\\python\\ops\\resource_variable_ops.py:1630: calling BaseResourceVariable.__init__ (from tensorflow.python.ops.resource_variable_ops) with constraint is deprecated and will be removed in a future version.\n",
      "Instructions for updating:\n",
      "If using Keras pass *_constraint arguments to layers.\n",
      "WARNING:tensorflow:From D:\\Usuarios\\spi112884\\Anaconda3\\lib\\site-packages\\keras\\backend\\tensorflow_backend.py:4070: The name tf.nn.max_pool is deprecated. Please use tf.nn.max_pool2d instead.\n",
      "\n"
     ]
    }
   ],
   "source": [
    "### Transfer Learning ###\n",
    "\n",
    "vgg19 = VGG19(include_top=False, weights='imagenet', input_shape=(128,128,3))\n",
    "\n",
    "# Freeze the pre-trained layers\n",
    "for layer in vgg19.layers:\n",
    "    layer.trainable = False\n",
    "\n",
    "# Add a fully connected layer with 2 nodes at the end \n",
    "input_ = vgg19.input\n",
    "output_ = vgg19(input_)\n",
    "last_layer = Flatten(name='flatten')(output_)\n",
    "last_layer = Dense(2, activation='sigmoid')(last_layer)\n",
    "model = Model(input=input_, output=last_layer)\n",
    "\n",
    "model.compile(optimizer = 'adam', loss = 'categorical_crossentropy', metrics = ['accuracy'])"
   ]
  },
  {
   "cell_type": "code",
   "execution_count": 6,
   "metadata": {},
   "outputs": [
    {
     "name": "stdout",
     "output_type": "stream",
     "text": [
      "### Estrutura VGG19 ###\n",
      "Model: \"vgg19\"\n",
      "_________________________________________________________________\n",
      "Layer (type)                 Output Shape              Param #   \n",
      "=================================================================\n",
      "input_1 (InputLayer)         (None, 128, 128, 3)       0         \n",
      "_________________________________________________________________\n",
      "block1_conv1 (Conv2D)        (None, 128, 128, 64)      1792      \n",
      "_________________________________________________________________\n",
      "block1_conv2 (Conv2D)        (None, 128, 128, 64)      36928     \n",
      "_________________________________________________________________\n",
      "block1_pool (MaxPooling2D)   (None, 64, 64, 64)        0         \n",
      "_________________________________________________________________\n",
      "block2_conv1 (Conv2D)        (None, 64, 64, 128)       73856     \n",
      "_________________________________________________________________\n",
      "block2_conv2 (Conv2D)        (None, 64, 64, 128)       147584    \n",
      "_________________________________________________________________\n",
      "block2_pool (MaxPooling2D)   (None, 32, 32, 128)       0         \n",
      "_________________________________________________________________\n",
      "block3_conv1 (Conv2D)        (None, 32, 32, 256)       295168    \n",
      "_________________________________________________________________\n",
      "block3_conv2 (Conv2D)        (None, 32, 32, 256)       590080    \n",
      "_________________________________________________________________\n",
      "block3_conv3 (Conv2D)        (None, 32, 32, 256)       590080    \n",
      "_________________________________________________________________\n",
      "block3_conv4 (Conv2D)        (None, 32, 32, 256)       590080    \n",
      "_________________________________________________________________\n",
      "block3_pool (MaxPooling2D)   (None, 16, 16, 256)       0         \n",
      "_________________________________________________________________\n",
      "block4_conv1 (Conv2D)        (None, 16, 16, 512)       1180160   \n",
      "_________________________________________________________________\n",
      "block4_conv2 (Conv2D)        (None, 16, 16, 512)       2359808   \n",
      "_________________________________________________________________\n",
      "block4_conv3 (Conv2D)        (None, 16, 16, 512)       2359808   \n",
      "_________________________________________________________________\n",
      "block4_conv4 (Conv2D)        (None, 16, 16, 512)       2359808   \n",
      "_________________________________________________________________\n",
      "block4_pool (MaxPooling2D)   (None, 8, 8, 512)         0         \n",
      "_________________________________________________________________\n",
      "block5_conv1 (Conv2D)        (None, 8, 8, 512)         2359808   \n",
      "_________________________________________________________________\n",
      "block5_conv2 (Conv2D)        (None, 8, 8, 512)         2359808   \n",
      "_________________________________________________________________\n",
      "block5_conv3 (Conv2D)        (None, 8, 8, 512)         2359808   \n",
      "_________________________________________________________________\n",
      "block5_conv4 (Conv2D)        (None, 8, 8, 512)         2359808   \n",
      "_________________________________________________________________\n",
      "block5_pool (MaxPooling2D)   (None, 4, 4, 512)         0         \n",
      "=================================================================\n",
      "Total params: 20,024,384\n",
      "Trainable params: 0\n",
      "Non-trainable params: 20,024,384\n",
      "_________________________________________________________________\n",
      "\n",
      "\n",
      "### Estrutura do modelo ###\n",
      "Model: \"model_1\"\n",
      "_________________________________________________________________\n",
      "Layer (type)                 Output Shape              Param #   \n",
      "=================================================================\n",
      "input_1 (InputLayer)         (None, 128, 128, 3)       0         \n",
      "_________________________________________________________________\n",
      "vgg19 (Model)                (None, 4, 4, 512)         20024384  \n",
      "_________________________________________________________________\n",
      "flatten (Flatten)            (None, 8192)              0         \n",
      "_________________________________________________________________\n",
      "dense_1 (Dense)              (None, 2)                 16386     \n",
      "=================================================================\n",
      "Total params: 20,040,770\n",
      "Trainable params: 16,386\n",
      "Non-trainable params: 20,024,384\n",
      "_________________________________________________________________\n"
     ]
    }
   ],
   "source": [
    "print (\"### Estrutura VGG19 ###\")\n",
    "vgg19.summary()\n",
    "\n",
    "print (\"\\n\\n### Estrutura do modelo ###\")\n",
    "model.summary()"
   ]
  },
  {
   "cell_type": "code",
   "execution_count": 7,
   "metadata": {},
   "outputs": [
    {
     "name": "stdout",
     "output_type": "stream",
     "text": [
      "Found 2800 images belonging to 2 classes.\n",
      "{'docs_gerais': 0, 'docs_identificacao': 1}\n",
      "Found 1200 images belonging to 2 classes.\n"
     ]
    }
   ],
   "source": [
    "# Part 2 - Fitting the CNN to the images\n",
    "\n",
    "from keras.preprocessing.image import ImageDataGenerator\n",
    "\n",
    "#Conjunto de treinamento\n",
    "train_datagen = ImageDataGenerator(rescale = 1./255,\n",
    "                                   shear_range = 0.2,\n",
    "                                   zoom_range = 0.2,\n",
    "                                   horizontal_flip = True)\n",
    "\n",
    "training_set = train_datagen.flow_from_directory('classificador_B/train',\n",
    "                                                 target_size = (128, 128),\n",
    "                                                 color_mode=\"rgb\",\n",
    "                                                 batch_size = batch,\n",
    "                                                 class_mode = 'categorical',\n",
    "                                                 shuffle = True)\n",
    "\n",
    "print (training_set.class_indices)\n",
    "#Conjunto de validação\n",
    "validation_datagen = ImageDataGenerator(rescale = 1./255)\n",
    "\n",
    "validation_set = validation_datagen.flow_from_directory('classificador_B/validation/',\n",
    "                                            target_size = (128, 128),\n",
    "                                            color_mode=\"rgb\",\n",
    "                                            batch_size = batch, #alterado para 1\n",
    "                                            class_mode = 'categorical',\n",
    "                                            shuffle=True)\n",
    "num_train = training_set.samples\n",
    "num_validation = validation_set.samples"
   ]
  },
  {
   "cell_type": "code",
   "execution_count": 8,
   "metadata": {},
   "outputs": [
    {
     "name": "stdout",
     "output_type": "stream",
     "text": [
      "WARNING:tensorflow:From D:\\Usuarios\\spi112884\\Anaconda3\\lib\\site-packages\\tensorflow_core\\python\\ops\\math_grad.py:1424: where (from tensorflow.python.ops.array_ops) is deprecated and will be removed in a future version.\n",
      "Instructions for updating:\n",
      "Use tf.where in 2.0, which has the same broadcast rule as np.where\n",
      "WARNING:tensorflow:From D:\\Usuarios\\spi112884\\Anaconda3\\lib\\site-packages\\keras\\backend\\tensorflow_backend.py:422: The name tf.global_variables is deprecated. Please use tf.compat.v1.global_variables instead.\n",
      "\n",
      "Epoch 1/50\n",
      "87/87 [==============================] - 120s 1s/step - loss: 0.1269 - accuracy: 0.9476 - val_loss: 0.0386 - val_accuracy: 0.9814\n",
      "Epoch 2/50\n",
      "87/87 [==============================] - 74s 852ms/step - loss: 0.0436 - accuracy: 0.9870 - val_loss: 0.0031 - val_accuracy: 0.9872\n",
      "Epoch 3/50\n",
      "87/87 [==============================] - 72s 829ms/step - loss: 0.0362 - accuracy: 0.9884 - val_loss: 0.0896 - val_accuracy: 0.9897\n",
      "Epoch 4/50\n",
      "87/87 [==============================] - 72s 830ms/step - loss: 0.0306 - accuracy: 0.9913 - val_loss: 0.0243 - val_accuracy: 0.9863\n",
      "Epoch 5/50\n",
      "87/87 [==============================] - 71s 812ms/step - loss: 0.0294 - accuracy: 0.9895 - val_loss: 0.0444 - val_accuracy: 0.9897\n",
      "Epoch 6/50\n",
      "87/87 [==============================] - 68s 787ms/step - loss: 0.0297 - accuracy: 0.9881 - val_loss: 0.0199 - val_accuracy: 0.9897\n",
      "Epoch 7/50\n",
      "87/87 [==============================] - 69s 795ms/step - loss: 0.0257 - accuracy: 0.9924 - val_loss: 0.0068 - val_accuracy: 0.9846\n",
      "Epoch 8/50\n",
      "87/87 [==============================] - 70s 804ms/step - loss: 0.0246 - accuracy: 0.9910 - val_loss: 0.0028 - val_accuracy: 0.9854\n",
      "Epoch 9/50\n",
      "87/87 [==============================] - 71s 814ms/step - loss: 0.0313 - accuracy: 0.9888 - val_loss: 0.0035 - val_accuracy: 0.9914\n",
      "Epoch 10/50\n",
      "87/87 [==============================] - 65s 747ms/step - loss: 0.0173 - accuracy: 0.9924 - val_loss: 0.1491 - val_accuracy: 0.9914\n",
      "Epoch 11/50\n",
      "87/87 [==============================] - 63s 725ms/step - loss: 0.0128 - accuracy: 0.9953 - val_loss: 0.0045 - val_accuracy: 0.9914\n",
      "Epoch 12/50\n",
      "87/87 [==============================] - 63s 729ms/step - loss: 0.0182 - accuracy: 0.9942 - val_loss: 0.0779 - val_accuracy: 0.9923\n",
      "Epoch 13/50\n",
      "87/87 [==============================] - 61s 698ms/step - loss: 0.0102 - accuracy: 0.9960 - val_loss: 1.3942e-04 - val_accuracy: 0.9932\n",
      "Epoch 14/50\n",
      "87/87 [==============================] - 64s 733ms/step - loss: 0.0112 - accuracy: 0.9971 - val_loss: 0.0012 - val_accuracy: 0.9906\n",
      "Epoch 15/50\n",
      "87/87 [==============================] - 66s 762ms/step - loss: 0.0125 - accuracy: 0.9949 - val_loss: 0.0194 - val_accuracy: 0.9949\n",
      "Epoch 16/50\n",
      "87/87 [==============================] - 65s 748ms/step - loss: 0.0117 - accuracy: 0.9964 - val_loss: 0.0025 - val_accuracy: 0.9923\n",
      "Epoch 17/50\n",
      "87/87 [==============================] - 63s 723ms/step - loss: 0.0085 - accuracy: 0.9982 - val_loss: 0.0308 - val_accuracy: 0.9914\n",
      "Epoch 18/50\n",
      "87/87 [==============================] - 69s 798ms/step - loss: 0.0048 - accuracy: 0.9989 - val_loss: 2.0199e-04 - val_accuracy: 0.9957\n",
      "Epoch 19/50\n",
      "87/87 [==============================] - 64s 739ms/step - loss: 0.0099 - accuracy: 0.9964 - val_loss: 0.0023 - val_accuracy: 0.9932\n",
      "Epoch 20/50\n",
      "87/87 [==============================] - 66s 762ms/step - loss: 0.0075 - accuracy: 0.9982 - val_loss: 0.0482 - val_accuracy: 0.9872\n",
      "Epoch 21/50\n",
      "87/87 [==============================] - 66s 761ms/step - loss: 0.0071 - accuracy: 0.9982 - val_loss: 0.0012 - val_accuracy: 0.9949\n",
      "Epoch 22/50\n",
      "87/87 [==============================] - 66s 760ms/step - loss: 0.0060 - accuracy: 0.9978 - val_loss: 0.0258 - val_accuracy: 0.9914\n",
      "Epoch 23/50\n",
      "87/87 [==============================] - 66s 756ms/step - loss: 0.0053 - accuracy: 0.9986 - val_loss: 0.0050 - val_accuracy: 0.9940\n",
      "Epoch 24/50\n",
      "87/87 [==============================] - 64s 738ms/step - loss: 0.0115 - accuracy: 0.9967 - val_loss: 0.0010 - val_accuracy: 0.9889\n",
      "Epoch 25/50\n",
      "87/87 [==============================] - 66s 763ms/step - loss: 0.0078 - accuracy: 0.9971 - val_loss: 8.5584e-04 - val_accuracy: 0.9932\n",
      "Epoch 26/50\n",
      "87/87 [==============================] - 64s 740ms/step - loss: 0.0054 - accuracy: 0.9982 - val_loss: 0.1127 - val_accuracy: 0.9940\n",
      "Epoch 27/50\n",
      "87/87 [==============================] - 70s 801ms/step - loss: 0.0037 - accuracy: 0.9993 - val_loss: 0.1561 - val_accuracy: 0.9914\n",
      "Epoch 28/50\n",
      "87/87 [==============================] - 66s 755ms/step - loss: 0.0068 - accuracy: 0.9978 - val_loss: 0.0069 - val_accuracy: 0.9949\n",
      "Epoch 29/50\n",
      "87/87 [==============================] - 64s 735ms/step - loss: 0.0046 - accuracy: 0.9996 - val_loss: 0.4929 - val_accuracy: 0.9880\n",
      "Epoch 30/50\n",
      "87/87 [==============================] - 63s 729ms/step - loss: 0.0059 - accuracy: 0.9986 - val_loss: 0.3207 - val_accuracy: 0.9897\n",
      "Epoch 31/50\n",
      "87/87 [==============================] - 65s 751ms/step - loss: 0.0039 - accuracy: 0.9996 - val_loss: 1.2016e-04 - val_accuracy: 0.9923\n",
      "Epoch 32/50\n",
      "87/87 [==============================] - 67s 774ms/step - loss: 0.0041 - accuracy: 0.9985 - val_loss: 0.0262 - val_accuracy: 0.9957\n",
      "Epoch 33/50\n",
      "87/87 [==============================] - 63s 720ms/step - loss: 0.0040 - accuracy: 0.9996 - val_loss: 1.3941e-04 - val_accuracy: 0.9906\n",
      "Epoch 34/50\n",
      "87/87 [==============================] - 65s 750ms/step - loss: 0.0033 - accuracy: 0.9996 - val_loss: 0.0557 - val_accuracy: 0.9932\n",
      "Epoch 35/50\n",
      "87/87 [==============================] - 62s 715ms/step - loss: 0.0023 - accuracy: 1.0000 - val_loss: 0.0015 - val_accuracy: 0.9914\n",
      "Epoch 36/50\n",
      "87/87 [==============================] - 64s 735ms/step - loss: 0.0051 - accuracy: 0.9985 - val_loss: 0.3808 - val_accuracy: 0.9914\n",
      "Epoch 37/50\n",
      "87/87 [==============================] - 64s 741ms/step - loss: 0.0032 - accuracy: 0.9993 - val_loss: 0.0015 - val_accuracy: 0.9940\n",
      "Epoch 38/50\n",
      "87/87 [==============================] - 64s 733ms/step - loss: 0.0069 - accuracy: 0.9971 - val_loss: 0.0057 - val_accuracy: 0.9932\n",
      "Epoch 39/50\n",
      "87/87 [==============================] - 62s 712ms/step - loss: 0.0043 - accuracy: 0.9989 - val_loss: 0.0013 - val_accuracy: 0.9932\n",
      "Epoch 40/50\n",
      "87/87 [==============================] - 71s 813ms/step - loss: 0.0034 - accuracy: 0.9993 - val_loss: 0.0092 - val_accuracy: 0.9914\n",
      "Epoch 41/50\n",
      "87/87 [==============================] - 66s 764ms/step - loss: 0.0031 - accuracy: 0.9993 - val_loss: 2.8466e-04 - val_accuracy: 0.9932\n",
      "Epoch 42/50\n",
      "87/87 [==============================] - 64s 737ms/step - loss: 0.0051 - accuracy: 0.9989 - val_loss: 0.0191 - val_accuracy: 0.9932\n",
      "Epoch 43/50\n",
      "87/87 [==============================] - 65s 751ms/step - loss: 0.0047 - accuracy: 0.9989 - val_loss: 4.4335e-04 - val_accuracy: 0.9940\n",
      "Epoch 44/50\n",
      "87/87 [==============================] - 74s 851ms/step - loss: 0.0031 - accuracy: 0.9996 - val_loss: 0.0020 - val_accuracy: 0.9940\n",
      "Epoch 45/50\n",
      "87/87 [==============================] - 68s 783ms/step - loss: 0.0021 - accuracy: 1.0000 - val_loss: 8.4830e-05 - val_accuracy: 0.9914\n",
      "Epoch 46/50\n",
      "87/87 [==============================] - 64s 739ms/step - loss: 0.0013 - accuracy: 1.0000 - val_loss: 1.3283e-05 - val_accuracy: 0.9932\n",
      "Epoch 47/50\n",
      "87/87 [==============================] - 64s 735ms/step - loss: 0.0013 - accuracy: 0.9996 - val_loss: 3.0931e-04 - val_accuracy: 0.9932\n",
      "Epoch 48/50\n",
      "87/87 [==============================] - 68s 777ms/step - loss: 0.0049 - accuracy: 0.9978 - val_loss: 0.0031 - val_accuracy: 0.9914\n",
      "Epoch 49/50\n",
      "87/87 [==============================] - 62s 714ms/step - loss: 0.0054 - accuracy: 0.9978 - val_loss: 8.7035e-05 - val_accuracy: 0.9923\n",
      "Epoch 50/50\n",
      "87/87 [==============================] - 61s 698ms/step - loss: 0.0044 - accuracy: 0.9989 - val_loss: 0.0055 - val_accuracy: 0.9966\n"
     ]
    }
   ],
   "source": [
    "with tf.device('/gpu:0'): #rodar na GPU\n",
    "    history = model.fit_generator(training_set,\n",
    "                         steps_per_epoch = (num_train//batch),\n",
    "                         epochs = 50,\n",
    "                         validation_data = validation_set,\n",
    "                         validation_steps = (num_validation//batch), verbose=1)\n",
    "    \n",
    "\n",
    "model.save('modelo_classificador_B_VGG19.h5')"
   ]
  },
  {
   "cell_type": "code",
   "execution_count": 10,
   "metadata": {},
   "outputs": [
    {
     "name": "stdout",
     "output_type": "stream",
     "text": [
      "Train accuracy: 0.9989\n",
      "Train loss: 0.0044 \n",
      "\n",
      "Validation accuracy: 0.9966\n",
      "Validation loss: 0.0055\n"
     ]
    },
    {
     "data": {
      "image/png": "[encoded data removed]",
      "text/plain": [
       "<Figure size 432x288 with 1 Axes>"
      ]
     },
     "metadata": {
      "needs_background": "light"
     },
     "output_type": "display_data"
    },
    {
     "data": {
      "image/png": "[encoded data removed]",
      "text/plain": [
       "<Figure size 432x288 with 1 Axes>"
      ]
     },
     "metadata": {
      "needs_background": "light"
     },
     "output_type": "display_data"
    }
   ],
   "source": [
    "# Final accuracy and loss\n",
    "print (\"Train accuracy: %.4f\" % (history.history['accuracy'][-1]))\n",
    "print (\"Train loss: %.4f\" % (history.history['loss'][-1]),\"\\n\")\n",
    "\n",
    "print (\"Validation accuracy: %.4f\" % (history.history['val_accuracy'][-1]))\n",
    "print (\"Validation loss: %.4f\" % (history.history['val_loss'][-1]))\n",
    "\n",
    "# Plot training & validation accuracy values\n",
    "plt.plot(history.history['accuracy'])\n",
    "plt.plot(history.history['val_accuracy'])\n",
    "plt.title('Model accuracy')\n",
    "plt.ylabel('Accuracy')\n",
    "plt.xlabel('Epoch')\n",
    "plt.legend(['Train', 'Validation'], loc='upper left')\n",
    "plt.show()\n",
    "\n",
    "# Plot training & validation loss values\n",
    "plt.plot(history.history['loss'])\n",
    "plt.plot(history.history['val_loss'])\n",
    "plt.title('Model loss')\n",
    "plt.ylabel('Loss')\n",
    "plt.xlabel('Epoch')\n",
    "plt.legend(['Train', 'Validation'], loc='upper left')\n",
    "plt.show()"
   ]
  },
  {
   "cell_type": "code",
   "execution_count": 23,
   "metadata": {},
   "outputs": [
    {
     "name": "stdout",
     "output_type": "stream",
     "text": [
      "### Matriz de confusão para o conjunto de validação ###\n",
      "Found 1200 images belonging to 2 classes.\n",
      "37/37 [==============================] - 20s 528ms/step\n"
     ]
    },
    {
     "data": {
      "image/png": "[encoded data removed]",
      "text/plain": [
       "<Figure size 504x504 with 2 Axes>"
      ]
     },
     "metadata": {
      "needs_background": "light"
     },
     "output_type": "display_data"
    }
   ],
   "source": [
    "### Conjunto de Validação ###\n",
    "\n",
    "print (\"### Matriz de confusão para o conjunto de validação ###\")\n",
    "\n",
    "#Conjunto de validação\n",
    "validation_datagen = ImageDataGenerator(rescale = 1./255)\n",
    "\n",
    "validation_set = validation_datagen.flow_from_directory('classificador_B/validation/',\n",
    "                                            target_size = (128, 128),\n",
    "                                            color_mode=\"rgb\",\n",
    "                                            batch_size = batch, #alterado para 1\n",
    "                                            class_mode = 'categorical',\n",
    "                                            shuffle= False)\n",
    "\n",
    "\n",
    "#Confution Matrix\n",
    "Y_pred = model.predict_generator(validation_set, num_validation//batch, verbose=1)\n",
    "\n",
    "test_preds = np.argmax(Y_pred, axis=-1)\n",
    "l=test_preds.shape[0]\n",
    "test_trues = validation_set.classes\n",
    "cm =confusion_matrix(test_trues[:l], test_preds)\n",
    "\n",
    "print_confusion_matrix(cm, [ \"docs_gerais\",\"docs_identificacao\"], figsize = (7,7), fontsize=11)\n"
   ]
  },
  {
   "cell_type": "code",
   "execution_count": 24,
   "metadata": {},
   "outputs": [
    {
     "name": "stdout",
     "output_type": "stream",
     "text": [
      "### Matriz de confusão para o conjunto de teste ###\n",
      "Found 600 images belonging to 2 classes.\n",
      "600/600 [==============================] - 15s 25ms/step\n",
      "600/600 [==============================] - 13s 22ms/step\n",
      "Test accuracy: 0.9933\n",
      "Test loss: 0.0000\n"
     ]
    },
    {
     "data": {
      "image/png": "[encoded data removed]",
      "text/plain": [
       "<Figure size 720x504 with 2 Axes>"
      ]
     },
     "metadata": {
      "needs_background": "light"
     },
     "output_type": "display_data"
    }
   ],
   "source": [
    "### Conjunto de Teste ###\n",
    "\n",
    "print (\"### Matriz de confusão para o conjunto de teste ###\")\n",
    "\n",
    "test_datagen = ImageDataGenerator(rescale = 1./255)\n",
    "\n",
    "test_set = test_datagen.flow_from_directory('classificador_B/test/',\n",
    "                                            target_size = (128, 128),\n",
    "                                            color_mode=\"rgb\",\n",
    "                                            batch_size = 1,\n",
    "                                            class_mode = 'categorical',\n",
    "                                            shuffle=False)\n",
    "num_test = test_set.samples\n",
    "\n",
    "\n",
    "#Confution Matrix\n",
    "Y_pred = model.predict_generator(test_set, num_test, verbose=1)\n",
    "\n",
    "test_preds = np.argmax(Y_pred, axis=-1)\n",
    "l=test_preds.shape[0]\n",
    "test_trues = test_set.classes\n",
    "cm =confusion_matrix(test_trues[:l], test_preds)\n",
    "\n",
    "print_confusion_matrix(cm, [ \"docs_gerais\",\"docs_identificacao\"], figsize = (10,7), fontsize=11)\n",
    "\n",
    "# Accuracy and Loss for the Test set\n",
    "loss, acc = model.evaluate_generator(test_set, num_test, verbose=1)\n",
    "\n",
    "# Final accuracy and loss\n",
    "print (\"Test accuracy: %.4f\" % acc)\n",
    "print (\"Test loss: %.4f\" % loss)\n"
   ]
  },
  {
   "cell_type": "code",
   "execution_count": null,
   "metadata": {},
   "outputs": [],
   "source": []
  }
 ],
 "metadata": {
  "kernelspec": {
   "display_name": "Python 3",
   "language": "python",
   "name": "python3"
  },
  "language_info": {
   "codemirror_mode": {
    "name": "ipython",
    "version": 3
   },
   "file_extension": ".py",
   "mimetype": "text/x-python",
   "name": "python",
   "nbconvert_exporter": "python",
   "pygments_lexer": "ipython3",
   "version": "3.7.4"
  }
 },
 "nbformat": 4,
 "nbformat_minor": 2
}
