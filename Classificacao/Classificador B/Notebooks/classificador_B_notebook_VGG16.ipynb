{
 "cells": [
  {
   "cell_type": "code",
   "execution_count": 1,
   "metadata": {},
   "outputs": [],
   "source": [
    "# Não exibir warnings\n",
    "import os\n",
    "import sys\n",
    "sys.stderr = open(os.devnull, \"w\")  # silence stderr\n",
    "sys.stderr = sys.__stderr__  # unsilence stderr"
   ]
  },
  {
   "cell_type": "code",
   "execution_count": 2,
   "metadata": {},
   "outputs": [],
   "source": [
    "#https://github.com/PacktPublishing/Neural-Network-Projects-with-Python/blob/master/Chapter04/main_vgg16.py\n",
    "\n",
    "from keras.applications.vgg16 import VGG16\n",
    "from keras.models import Model\n",
    "\n",
    "from keras.models import Sequential\n",
    "from keras.layers import Conv2D\n",
    "from keras.layers import MaxPooling2D\n",
    "from keras.layers import Flatten\n",
    "from keras.layers import Dense\n",
    "import matplotlib.pyplot as plt \n",
    "from sklearn.metrics import classification_report, confusion_matrix\n",
    "import tensorflow as tf\n",
    "import numpy as np\n",
    "import pandas as pd\n",
    "import seaborn as sns\n",
    "\n",
    "from PIL import Image, ImageFile\n",
    "ImageFile.LOAD_TRUNCATED_IMAGES = True"
   ]
  },
  {
   "cell_type": "code",
   "execution_count": 3,
   "metadata": {},
   "outputs": [],
   "source": [
    "#Função de geração da matriz de confusão\n",
    "def print_confusion_matrix(confusion_matrix, class_names, figsize = (10,7), fontsize=11):\n",
    "    df_cm = pd.DataFrame(\n",
    "        confusion_matrix, index=class_names, columns=class_names, \n",
    "    )\n",
    "    fig = plt.figure(figsize=figsize)\n",
    "    try:\n",
    "        heatmap = sns.heatmap(df_cm, cmap=\"YlGnBu\", annot=True, fmt=\"d\")\n",
    "    except ValueError:\n",
    "        raise ValueError(\"Confusion matrix values must be integers.\")\n",
    "    heatmap.yaxis.set_ticklabels(heatmap.yaxis.get_ticklabels(), rotation=0, ha='right', fontsize=fontsize)\n",
    "    heatmap.xaxis.set_ticklabels(heatmap.xaxis.get_ticklabels(), rotation=30, ha='right', fontsize=fontsize)\n",
    "    plt.ylabel('True label')\n",
    "    plt.xlabel('Predicted label')\n",
    "    #return fig  "
   ]
  },
  {
   "cell_type": "code",
   "execution_count": 6,
   "metadata": {},
   "outputs": [],
   "source": [
    "batch = 32\n",
    "#num_train = 5600\n",
    "#num_validation = 2400"
   ]
  },
  {
   "cell_type": "code",
   "execution_count": 7,
   "metadata": {},
   "outputs": [
    {
     "name": "stdout",
     "output_type": "stream",
     "text": [
      "WARNING:tensorflow:From D:\\Usuarios\\spi112884\\Anaconda3\\lib\\site-packages\\tensorflow_core\\python\\ops\\resource_variable_ops.py:1630: calling BaseResourceVariable.__init__ (from tensorflow.python.ops.resource_variable_ops) with constraint is deprecated and will be removed in a future version.\n",
      "Instructions for updating:\n",
      "If using Keras pass *_constraint arguments to layers.\n",
      "WARNING:tensorflow:From D:\\Usuarios\\spi112884\\Anaconda3\\lib\\site-packages\\keras\\backend\\tensorflow_backend.py:4070: The name tf.nn.max_pool is deprecated. Please use tf.nn.max_pool2d instead.\n",
      "\n"
     ]
    }
   ],
   "source": [
    "### Transfer Learning ###\n",
    "\n",
    "vgg16 = VGG16(include_top=False, weights='imagenet', input_shape=(128,128,3))\n",
    "\n",
    "# Freeze the pre-trained layers\n",
    "for layer in vgg16.layers:\n",
    "    layer.trainable = False\n",
    "\n",
    "# Add a fully connected layer with 2 nodes at the end \n",
    "input_ = vgg16.input\n",
    "output_ = vgg16(input_)\n",
    "last_layer = Flatten(name='flatten')(output_)\n",
    "last_layer = Dense(2, activation='sigmoid')(last_layer)\n",
    "model = Model(input=input_, output=last_layer)\n",
    "\n",
    "model.compile(optimizer = 'adam', loss = 'categorical_crossentropy', metrics = ['accuracy'])"
   ]
  },
  {
   "cell_type": "code",
   "execution_count": 6,
   "metadata": {},
   "outputs": [
    {
     "name": "stdout",
     "output_type": "stream",
     "text": [
      "### Estrutura VGG16 ###\n",
      "Model: \"vgg16\"\n",
      "_________________________________________________________________\n",
      "Layer (type)                 Output Shape              Param #   \n",
      "=================================================================\n",
      "input_1 (InputLayer)         (None, 128, 128, 3)       0         \n",
      "_________________________________________________________________\n",
      "block1_conv1 (Conv2D)        (None, 128, 128, 64)      1792      \n",
      "_________________________________________________________________\n",
      "block1_conv2 (Conv2D)        (None, 128, 128, 64)      36928     \n",
      "_________________________________________________________________\n",
      "block1_pool (MaxPooling2D)   (None, 64, 64, 64)        0         \n",
      "_________________________________________________________________\n",
      "block2_conv1 (Conv2D)        (None, 64, 64, 128)       73856     \n",
      "_________________________________________________________________\n",
      "block2_conv2 (Conv2D)        (None, 64, 64, 128)       147584    \n",
      "_________________________________________________________________\n",
      "block2_pool (MaxPooling2D)   (None, 32, 32, 128)       0         \n",
      "_________________________________________________________________\n",
      "block3_conv1 (Conv2D)        (None, 32, 32, 256)       295168    \n",
      "_________________________________________________________________\n",
      "block3_conv2 (Conv2D)        (None, 32, 32, 256)       590080    \n",
      "_________________________________________________________________\n",
      "block3_conv3 (Conv2D)        (None, 32, 32, 256)       590080    \n",
      "_________________________________________________________________\n",
      "block3_pool (MaxPooling2D)   (None, 16, 16, 256)       0         \n",
      "_________________________________________________________________\n",
      "block4_conv1 (Conv2D)        (None, 16, 16, 512)       1180160   \n",
      "_________________________________________________________________\n",
      "block4_conv2 (Conv2D)        (None, 16, 16, 512)       2359808   \n",
      "_________________________________________________________________\n",
      "block4_conv3 (Conv2D)        (None, 16, 16, 512)       2359808   \n",
      "_________________________________________________________________\n",
      "block4_pool (MaxPooling2D)   (None, 8, 8, 512)         0         \n",
      "_________________________________________________________________\n",
      "block5_conv1 (Conv2D)        (None, 8, 8, 512)         2359808   \n",
      "_________________________________________________________________\n",
      "block5_conv2 (Conv2D)        (None, 8, 8, 512)         2359808   \n",
      "_________________________________________________________________\n",
      "block5_conv3 (Conv2D)        (None, 8, 8, 512)         2359808   \n",
      "_________________________________________________________________\n",
      "block5_pool (MaxPooling2D)   (None, 4, 4, 512)         0         \n",
      "=================================================================\n",
      "Total params: 14,714,688\n",
      "Trainable params: 0\n",
      "Non-trainable params: 14,714,688\n",
      "_________________________________________________________________\n",
      "\n",
      "\n",
      "### Estrutura do modelo ###\n",
      "Model: \"model_1\"\n",
      "_________________________________________________________________\n",
      "Layer (type)                 Output Shape              Param #   \n",
      "=================================================================\n",
      "input_1 (InputLayer)         (None, 128, 128, 3)       0         \n",
      "_________________________________________________________________\n",
      "vgg16 (Model)                (None, 4, 4, 512)         14714688  \n",
      "_________________________________________________________________\n",
      "flatten (Flatten)            (None, 8192)              0         \n",
      "_________________________________________________________________\n",
      "dense_1 (Dense)              (None, 2)                 16386     \n",
      "=================================================================\n",
      "Total params: 14,731,074\n",
      "Trainable params: 16,386\n",
      "Non-trainable params: 14,714,688\n",
      "_________________________________________________________________\n"
     ]
    }
   ],
   "source": [
    "print (\"### Estrutura VGG16 ###\")\n",
    "vgg16.summary()\n",
    "\n",
    "print (\"\\n\\n### Estrutura do modelo ###\")\n",
    "model.summary()"
   ]
  },
  {
   "cell_type": "code",
   "execution_count": 5,
   "metadata": {},
   "outputs": [
    {
     "ename": "NameError",
     "evalue": "name 'batch' is not defined",
     "output_type": "error",
     "traceback": [
      "\u001b[1;31m---------------------------------------------------------------------------\u001b[0m",
      "\u001b[1;31mNameError\u001b[0m                                 Traceback (most recent call last)",
      "\u001b[1;32m<ipython-input-5-19b8779998eb>\u001b[0m in \u001b[0;36m<module>\u001b[1;34m\u001b[0m\n\u001b[0;32m     12\u001b[0m                                                  \u001b[0mtarget_size\u001b[0m \u001b[1;33m=\u001b[0m \u001b[1;33m(\u001b[0m\u001b[1;36m128\u001b[0m\u001b[1;33m,\u001b[0m \u001b[1;36m128\u001b[0m\u001b[1;33m)\u001b[0m\u001b[1;33m,\u001b[0m\u001b[1;33m\u001b[0m\u001b[1;33m\u001b[0m\u001b[0m\n\u001b[0;32m     13\u001b[0m                                                  \u001b[0mcolor_mode\u001b[0m\u001b[1;33m=\u001b[0m\u001b[1;34m\"rgb\"\u001b[0m\u001b[1;33m,\u001b[0m\u001b[1;33m\u001b[0m\u001b[1;33m\u001b[0m\u001b[0m\n\u001b[1;32m---> 14\u001b[1;33m                                                  \u001b[0mbatch_size\u001b[0m \u001b[1;33m=\u001b[0m \u001b[0mbatch\u001b[0m\u001b[1;33m,\u001b[0m\u001b[1;33m\u001b[0m\u001b[1;33m\u001b[0m\u001b[0m\n\u001b[0m\u001b[0;32m     15\u001b[0m                                                  \u001b[0mclass_mode\u001b[0m \u001b[1;33m=\u001b[0m \u001b[1;34m'categorical'\u001b[0m\u001b[1;33m,\u001b[0m\u001b[1;33m\u001b[0m\u001b[1;33m\u001b[0m\u001b[0m\n\u001b[0;32m     16\u001b[0m                                                  shuffle = True)\n",
      "\u001b[1;31mNameError\u001b[0m: name 'batch' is not defined"
     ]
    }
   ],
   "source": [
    "# Part 2 - Fitting the CNN to the images\n",
    "\n",
    "from keras.preprocessing.image import ImageDataGenerator\n",
    "\n",
    "#Conjunto de treinamento\n",
    "train_datagen = ImageDataGenerator(rescale = 1./255,\n",
    "                                   shear_range = 0.2,\n",
    "                                   zoom_range = 0.2,\n",
    "                                   horizontal_flip = True)\n",
    "\n",
    "training_set = train_datagen.flow_from_directory('classificador_B/train',\n",
    "                                                 target_size = (128, 128),\n",
    "                                                 color_mode=\"rgb\",\n",
    "                                                 batch_size = batch,\n",
    "                                                 class_mode = 'categorical',\n",
    "                                                 shuffle = True)\n",
    "\n",
    "print (training_set.class_indices)\n",
    "#Conjunto de validação\n",
    "validation_datagen = ImageDataGenerator(rescale = 1./255)\n",
    "\n",
    "validation_set = validation_datagen.flow_from_directory('classificador_B/validation/',\n",
    "                                            target_size = (128, 128),\n",
    "                                            color_mode=\"rgb\",\n",
    "                                            batch_size = batch, #alterado para 1\n",
    "                                            class_mode = 'categorical',\n",
    "                                            shuffle=True)\n",
    "num_train = training_set.samples\n",
    "num_validation = validation_set.samples"
   ]
  },
  {
   "cell_type": "code",
   "execution_count": 8,
   "metadata": {},
   "outputs": [
    {
     "name": "stdout",
     "output_type": "stream",
     "text": [
      "WARNING:tensorflow:From D:\\Usuarios\\spi112884\\Anaconda3\\lib\\site-packages\\tensorflow_core\\python\\ops\\math_grad.py:1424: where (from tensorflow.python.ops.array_ops) is deprecated and will be removed in a future version.\n",
      "Instructions for updating:\n",
      "Use tf.where in 2.0, which has the same broadcast rule as np.where\n",
      "WARNING:tensorflow:From D:\\Usuarios\\spi112884\\Anaconda3\\lib\\site-packages\\keras\\backend\\tensorflow_backend.py:422: The name tf.global_variables is deprecated. Please use tf.compat.v1.global_variables instead.\n",
      "\n",
      "Epoch 1/50\n",
      "87/87 [==============================] - 117s 1s/step - loss: 0.1144 - accuracy: 0.9585 - val_loss: 0.0168 - val_accuracy: 0.9831\n",
      "Epoch 2/50\n",
      "87/87 [==============================] - 76s 873ms/step - loss: 0.0436 - accuracy: 0.9845 - val_loss: 0.0111 - val_accuracy: 0.9872\n",
      "Epoch 3/50\n",
      "87/87 [==============================] - 73s 839ms/step - loss: 0.0330 - accuracy: 0.9884 - val_loss: 0.0135 - val_accuracy: 0.9906\n",
      "Epoch 4/50\n",
      "87/87 [==============================] - 75s 865ms/step - loss: 0.0280 - accuracy: 0.9928 - val_loss: 0.0055 - val_accuracy: 0.9914\n",
      "Epoch 5/50\n",
      "87/87 [==============================] - 73s 844ms/step - loss: 0.0246 - accuracy: 0.9899 - val_loss: 0.0034 - val_accuracy: 0.9906\n",
      "Epoch 6/50\n",
      "87/87 [==============================] - 72s 827ms/step - loss: 0.0208 - accuracy: 0.9931 - val_loss: 0.0037 - val_accuracy: 0.9923\n",
      "Epoch 7/50\n",
      "87/87 [==============================] - 66s 761ms/step - loss: 0.0165 - accuracy: 0.9953 - val_loss: 0.0026 - val_accuracy: 0.9906\n",
      "Epoch 8/50\n",
      "87/87 [==============================] - 66s 755ms/step - loss: 0.0167 - accuracy: 0.9942 - val_loss: 0.0154 - val_accuracy: 0.9889\n",
      "Epoch 9/50\n",
      "87/87 [==============================] - 69s 794ms/step - loss: 0.0220 - accuracy: 0.9928 - val_loss: 0.0473 - val_accuracy: 0.9906\n",
      "Epoch 10/50\n",
      "87/87 [==============================] - 64s 732ms/step - loss: 0.0126 - accuracy: 0.9967 - val_loss: 0.0136 - val_accuracy: 0.9940\n",
      "Epoch 11/50\n",
      "87/87 [==============================] - 65s 744ms/step - loss: 0.0081 - accuracy: 0.9986 - val_loss: 3.4224e-04 - val_accuracy: 0.9940\n",
      "Epoch 12/50\n",
      "87/87 [==============================] - 73s 838ms/step - loss: 0.0124 - accuracy: 0.9964 - val_loss: 0.0117 - val_accuracy: 0.9914\n",
      "Epoch 13/50\n",
      "87/87 [==============================] - 71s 817ms/step - loss: 0.0110 - accuracy: 0.9967 - val_loss: 0.0025 - val_accuracy: 0.9940\n",
      "Epoch 14/50\n",
      "87/87 [==============================] - 66s 757ms/step - loss: 0.0072 - accuracy: 0.9982 - val_loss: 0.0792 - val_accuracy: 0.9914\n",
      "Epoch 15/50\n",
      "87/87 [==============================] - 68s 781ms/step - loss: 0.0109 - accuracy: 0.9960 - val_loss: 4.9150e-04 - val_accuracy: 0.9906\n",
      "Epoch 16/50\n",
      "87/87 [==============================] - 64s 739ms/step - loss: 0.0091 - accuracy: 0.9982 - val_loss: 0.0849 - val_accuracy: 0.9897\n",
      "Epoch 17/50\n",
      "87/87 [==============================] - 65s 745ms/step - loss: 0.0077 - accuracy: 0.9986 - val_loss: 7.0541e-04 - val_accuracy: 0.9932\n",
      "Epoch 18/50\n",
      "87/87 [==============================] - 68s 780ms/step - loss: 0.0068 - accuracy: 0.9982 - val_loss: 3.9706e-04 - val_accuracy: 0.9914\n",
      "Epoch 19/50\n",
      "87/87 [==============================] - 64s 733ms/step - loss: 0.0044 - accuracy: 0.9996 - val_loss: 0.0024 - val_accuracy: 0.9889\n",
      "Epoch 20/50\n",
      "87/87 [==============================] - 62s 715ms/step - loss: 0.0045 - accuracy: 0.9993 - val_loss: 0.0036 - val_accuracy: 0.9923\n",
      "Epoch 21/50\n",
      "87/87 [==============================] - 65s 743ms/step - loss: 0.0034 - accuracy: 0.9996 - val_loss: 3.9659e-04 - val_accuracy: 0.9940\n",
      "Epoch 22/50\n",
      "87/87 [==============================] - 61s 696ms/step - loss: 0.0062 - accuracy: 0.9978 - val_loss: 0.0016 - val_accuracy: 0.9914\n",
      "Epoch 23/50\n",
      "87/87 [==============================] - 63s 719ms/step - loss: 0.0029 - accuracy: 1.0000 - val_loss: 0.0017 - val_accuracy: 0.9940\n",
      "Epoch 24/50\n",
      "87/87 [==============================] - 62s 714ms/step - loss: 0.0055 - accuracy: 0.9989 - val_loss: 0.0069 - val_accuracy: 0.9889\n",
      "Epoch 25/50\n",
      "87/87 [==============================] - 64s 735ms/step - loss: 0.0053 - accuracy: 0.9986 - val_loss: 9.2171e-04 - val_accuracy: 0.9897\n",
      "Epoch 26/50\n",
      "87/87 [==============================] - 62s 710ms/step - loss: 0.0039 - accuracy: 0.9993 - val_loss: 0.4737 - val_accuracy: 0.9932\n",
      "Epoch 27/50\n",
      "87/87 [==============================] - 61s 704ms/step - loss: 0.0054 - accuracy: 0.9989 - val_loss: 0.0011 - val_accuracy: 0.9940\n",
      "Epoch 28/50\n",
      "87/87 [==============================] - 63s 729ms/step - loss: 0.0047 - accuracy: 0.9993 - val_loss: 4.9436e-04 - val_accuracy: 0.9906\n",
      "Epoch 29/50\n",
      "87/87 [==============================] - 59s 675ms/step - loss: 0.0042 - accuracy: 0.9993 - val_loss: 0.0015 - val_accuracy: 0.9940\n",
      "Epoch 30/50\n",
      "87/87 [==============================] - 61s 699ms/step - loss: 0.0032 - accuracy: 0.9989 - val_loss: 0.1086 - val_accuracy: 0.9906\n",
      "Epoch 31/50\n",
      "87/87 [==============================] - 62s 713ms/step - loss: 0.0030 - accuracy: 0.9996 - val_loss: 0.0168 - val_accuracy: 0.9914\n",
      "Epoch 32/50\n",
      "87/87 [==============================] - 61s 704ms/step - loss: 0.0025 - accuracy: 0.9996 - val_loss: 0.0017 - val_accuracy: 0.9932\n",
      "Epoch 33/50\n",
      "87/87 [==============================] - 59s 680ms/step - loss: 0.0036 - accuracy: 0.9993 - val_loss: 0.1194 - val_accuracy: 0.9889\n",
      "Epoch 34/50\n",
      "87/87 [==============================] - 62s 715ms/step - loss: 0.0033 - accuracy: 0.9996 - val_loss: 0.0010 - val_accuracy: 0.9897\n",
      "Epoch 35/50\n",
      "87/87 [==============================] - 59s 678ms/step - loss: 0.0062 - accuracy: 0.9989 - val_loss: 0.0030 - val_accuracy: 0.9914\n",
      "Epoch 36/50\n",
      "87/87 [==============================] - 62s 711ms/step - loss: 0.0029 - accuracy: 0.9993 - val_loss: 0.0046 - val_accuracy: 0.9923\n",
      "Epoch 37/50\n",
      "87/87 [==============================] - 62s 711ms/step - loss: 0.0032 - accuracy: 0.9993 - val_loss: 3.2803e-04 - val_accuracy: 0.9932\n",
      "Epoch 38/50\n",
      "87/87 [==============================] - 63s 723ms/step - loss: 0.0044 - accuracy: 0.9978 - val_loss: 6.9149e-04 - val_accuracy: 0.9906\n",
      "Epoch 39/50\n",
      "87/87 [==============================] - 60s 687ms/step - loss: 0.0036 - accuracy: 0.9985 - val_loss: 0.5390 - val_accuracy: 0.9916\n",
      "Epoch 40/50\n",
      "87/87 [==============================] - 65s 744ms/step - loss: 0.0019 - accuracy: 0.9996 - val_loss: 0.0116 - val_accuracy: 0.9932\n",
      "Epoch 41/50\n",
      "87/87 [==============================] - 69s 790ms/step - loss: 0.0019 - accuracy: 0.9996 - val_loss: 0.0047 - val_accuracy: 0.9906\n",
      "Epoch 42/50\n",
      "87/87 [==============================] - 66s 762ms/step - loss: 0.0014 - accuracy: 1.0000 - val_loss: 6.4446e-04 - val_accuracy: 0.9906\n",
      "Epoch 43/50\n",
      "87/87 [==============================] - 66s 757ms/step - loss: 0.0014 - accuracy: 1.0000 - val_loss: 0.0027 - val_accuracy: 0.9906\n",
      "Epoch 44/50\n",
      "87/87 [==============================] - 68s 787ms/step - loss: 0.0015 - accuracy: 1.0000 - val_loss: 0.0212 - val_accuracy: 0.9949\n",
      "Epoch 45/50\n",
      "87/87 [==============================] - 64s 730ms/step - loss: 0.0022 - accuracy: 0.9996 - val_loss: 0.0265 - val_accuracy: 0.9914\n",
      "Epoch 46/50\n",
      "87/87 [==============================] - 64s 736ms/step - loss: 0.0034 - accuracy: 0.9989 - val_loss: 0.0254 - val_accuracy: 0.9880\n",
      "Epoch 47/50\n",
      "87/87 [==============================] - 65s 742ms/step - loss: 0.0058 - accuracy: 0.9971 - val_loss: 5.3456e-04 - val_accuracy: 0.9880\n",
      "Epoch 48/50\n",
      "87/87 [==============================] - 63s 727ms/step - loss: 0.0024 - accuracy: 0.9996 - val_loss: 0.0126 - val_accuracy: 0.9932\n",
      "Epoch 49/50\n",
      "87/87 [==============================] - 63s 724ms/step - loss: 0.0016 - accuracy: 0.9996 - val_loss: 1.3908e-05 - val_accuracy: 0.9932\n",
      "Epoch 50/50\n",
      "87/87 [==============================] - 63s 724ms/step - loss: 0.0012 - accuracy: 1.0000 - val_loss: 3.7104e-06 - val_accuracy: 0.9914\n"
     ]
    }
   ],
   "source": [
    "with tf.device('/gpu:0'): #rodar na GPU\n",
    "    history = model.fit_generator(training_set,\n",
    "                         steps_per_epoch = (num_train//batch),\n",
    "                         epochs = 50,\n",
    "                         validation_data = validation_set,\n",
    "                         validation_steps = (num_validation//batch), verbose=1)\n",
    "    \n",
    "\n",
    "model.save('modelo_classificador_B_VGG16.h5')"
   ]
  },
  {
   "cell_type": "code",
   "execution_count": 10,
   "metadata": {},
   "outputs": [
    {
     "name": "stdout",
     "output_type": "stream",
     "text": [
      "Train accuracy: 1.0000\n",
      "Train loss: 0.0012 \n",
      "\n",
      "Validation accuracy: 0.9914\n",
      "Validation loss: 0.0000\n"
     ]
    },
    {
     "data": {
      "image/png": "[encoded data removed]",
      "text/plain": [
       "<Figure size 432x288 with 1 Axes>"
      ]
     },
     "metadata": {
      "needs_background": "light"
     },
     "output_type": "display_data"
    },
    {
     "data": {
      "image/png": "[encoded data removed]",
      "text/plain": [
       "<Figure size 432x288 with 1 Axes>"
      ]
     },
     "metadata": {
      "needs_background": "light"
     },
     "output_type": "display_data"
    }
   ],
   "source": [
    "# Final accuracy and loss\n",
    "print (\"Train accuracy: %.4f\" % (history.history['accuracy'][-1]))\n",
    "print (\"Train loss: %.4f\" % (history.history['loss'][-1]),\"\\n\")\n",
    "\n",
    "print (\"Validation accuracy: %.4f\" % (history.history['val_accuracy'][-1]))\n",
    "print (\"Validation loss: %.4f\" % (history.history['val_loss'][-1]))\n",
    "\n",
    "# Plot training & validation accuracy values\n",
    "plt.plot(history.history['accuracy'])\n",
    "plt.plot(history.history['val_accuracy'])\n",
    "plt.title('Model accuracy')\n",
    "plt.ylabel('Accuracy')\n",
    "plt.xlabel('Epoch')\n",
    "plt.legend(['Train', 'Validation'], loc='upper left')\n",
    "plt.show()\n",
    "\n",
    "# Plot training & validation loss values\n",
    "plt.plot(history.history['loss'])\n",
    "plt.plot(history.history['val_loss'])\n",
    "plt.title('Model loss')\n",
    "plt.ylabel('Loss')\n",
    "plt.xlabel('Epoch')\n",
    "plt.legend(['Train', 'Validation'], loc='upper left')\n",
    "plt.show()"
   ]
  },
  {
   "cell_type": "code",
   "execution_count": 8,
   "metadata": {},
   "outputs": [
    {
     "name": "stdout",
     "output_type": "stream",
     "text": [
      "### Matriz de confusão para o conjunto de validação ###\n",
      "Found 1200 images belonging to 2 classes.\n"
     ]
    },
    {
     "ename": "NameError",
     "evalue": "name 'num_validation' is not defined",
     "output_type": "error",
     "traceback": [
      "\u001b[1;31m---------------------------------------------------------------------------\u001b[0m",
      "\u001b[1;31mNameError\u001b[0m                                 Traceback (most recent call last)",
      "\u001b[1;32m<ipython-input-8-e1245bee3ef5>\u001b[0m in \u001b[0;36m<module>\u001b[1;34m\u001b[0m\n\u001b[0;32m     15\u001b[0m \u001b[1;33m\u001b[0m\u001b[0m\n\u001b[0;32m     16\u001b[0m \u001b[1;31m#Confution Matrix\u001b[0m\u001b[1;33m\u001b[0m\u001b[1;33m\u001b[0m\u001b[1;33m\u001b[0m\u001b[0m\n\u001b[1;32m---> 17\u001b[1;33m \u001b[0mY_pred\u001b[0m \u001b[1;33m=\u001b[0m \u001b[0mmodel\u001b[0m\u001b[1;33m.\u001b[0m\u001b[0mpredict_generator\u001b[0m\u001b[1;33m(\u001b[0m\u001b[0mvalidation_set\u001b[0m\u001b[1;33m,\u001b[0m \u001b[0mnum_validation\u001b[0m\u001b[1;33m//\u001b[0m\u001b[0mbatch\u001b[0m\u001b[1;33m,\u001b[0m \u001b[0mverbose\u001b[0m\u001b[1;33m=\u001b[0m\u001b[1;36m1\u001b[0m\u001b[1;33m)\u001b[0m\u001b[1;33m\u001b[0m\u001b[1;33m\u001b[0m\u001b[0m\n\u001b[0m\u001b[0;32m     18\u001b[0m \u001b[1;33m\u001b[0m\u001b[0m\n\u001b[0;32m     19\u001b[0m \u001b[0mtest_preds\u001b[0m \u001b[1;33m=\u001b[0m \u001b[0mnp\u001b[0m\u001b[1;33m.\u001b[0m\u001b[0margmax\u001b[0m\u001b[1;33m(\u001b[0m\u001b[0mY_pred\u001b[0m\u001b[1;33m,\u001b[0m \u001b[0maxis\u001b[0m\u001b[1;33m=\u001b[0m\u001b[1;33m-\u001b[0m\u001b[1;36m1\u001b[0m\u001b[1;33m)\u001b[0m\u001b[1;33m\u001b[0m\u001b[1;33m\u001b[0m\u001b[0m\n",
      "\u001b[1;31mNameError\u001b[0m: name 'num_validation' is not defined"
     ]
    }
   ],
   "source": [
    "### Conjunto de Validação ###\n",
    "\n",
    "print (\"### Matriz de confusão para o conjunto de validação ###\")\n",
    "\n",
    "#Conjunto de validação\n",
    "validation_datagen = ImageDataGenerator(rescale = 1./255)\n",
    "\n",
    "validation_set = validation_datagen.flow_from_directory('classificador_B/validation/',\n",
    "                                            target_size = (128, 128),\n",
    "                                            color_mode=\"rgb\",\n",
    "                                            batch_size = batch, #alterado para 1\n",
    "                                            class_mode = 'categorical',\n",
    "                                            shuffle= False)\n",
    "\n",
    "\n",
    "#Confution Matrix\n",
    "Y_pred = model.predict_generator(validation_set, num_validation//batch, verbose=1)\n",
    "\n",
    "test_preds = np.argmax(Y_pred, axis=-1)\n",
    "l=test_preds.shape[0]\n",
    "test_trues = validation_set.classes\n",
    "cm =confusion_matrix(test_trues[:l], test_preds)\n",
    "\n",
    "print_confusion_matrix(cm, [ \"docs_gerais\",\"docs_identificacao\"], figsize = (10,7), fontsize=11)\n"
   ]
  },
  {
   "cell_type": "code",
   "execution_count": 12,
   "metadata": {},
   "outputs": [
    {
     "name": "stdout",
     "output_type": "stream",
     "text": [
      "### Matriz de confusão para o conjunto de teste ###\n",
      "Found 600 images belonging to 2 classes.\n",
      "600/600 [==============================] - 15s 25ms/step\n",
      "600/600 [==============================] - 12s 20ms/step\n",
      "Test accuracy: 0.9933\n",
      "Test loss: 0.0000\n"
     ]
    },
    {
     "data": {
      "image/png": "[encoded data removed]",
      "text/plain": [
       "<Figure size 720x504 with 2 Axes>"
      ]
     },
     "metadata": {
      "needs_background": "light"
     },
     "output_type": "display_data"
    }
   ],
   "source": [
    "### Conjunto de Teste ###\n",
    "\n",
    "print (\"### Matriz de confusão para o conjunto de teste ###\")\n",
    "\n",
    "test_datagen = ImageDataGenerator(rescale = 1./255)\n",
    "\n",
    "test_set = test_datagen.flow_from_directory('classificador_B/test/',\n",
    "                                            target_size = (128, 128),\n",
    "                                            color_mode=\"rgb\",\n",
    "                                            batch_size = 1,\n",
    "                                            class_mode = 'categorical',\n",
    "                                            shuffle=False)\n",
    "num_test = test_set.samples\n",
    "\n",
    "\n",
    "#Confution Matrix\n",
    "Y_pred = model.predict_generator(test_set, num_test, verbose=1)\n",
    "\n",
    "test_preds = np.argmax(Y_pred, axis=-1)\n",
    "l=test_preds.shape[0]\n",
    "test_trues = test_set.classes\n",
    "cm =confusion_matrix(test_trues[:l], test_preds)\n",
    "\n",
    "print_confusion_matrix(cm, [ \"docs_gerais\",\"docs_identificacao\"], figsize = (10,7), fontsize=11)\n",
    "\n",
    "# Accuracy and Loss for the Test set\n",
    "loss, acc = model.evaluate_generator(test_set, num_test, verbose=1)\n",
    "\n",
    "# Final accuracy and loss\n",
    "print (\"Test accuracy: %.4f\" % acc)\n",
    "print (\"Test loss: %.4f\" % loss)\n"
   ]
  },
  {
   "cell_type": "code",
   "execution_count": null,
   "metadata": {},
   "outputs": [],
   "source": []
  }
 ],
 "metadata": {
  "kernelspec": {
   "display_name": "Python 3",
   "language": "python",
   "name": "python3"
  },
  "language_info": {
   "codemirror_mode": {
    "name": "ipython",
    "version": 3
   },
   "file_extension": ".py",
   "mimetype": "text/x-python",
   "name": "python",
   "nbconvert_exporter": "python",
   "pygments_lexer": "ipython3",
   "version": "3.7.4"
  }
 },
 "nbformat": 4,
 "nbformat_minor": 2
}
